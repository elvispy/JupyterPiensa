{
 "cells": [
  {
   "cell_type": "markdown",
   "metadata": {},
   "source": [
    "## Estructura condicional if\n",
    "\n",
    "Es hora de darle utilidad a los datos booleanos. Supongamos que tenemos la siguiente variable booleana:"
   ]
  },
  {
   "cell_type": "code",
   "execution_count": 1,
   "metadata": {},
   "outputs": [],
   "source": [
    "he_estudiado = True #Ejemplo"
   ]
  },
  {
   "cell_type": "markdown",
   "metadata": {},
   "source": [
    "Es una variable que refleja si he estudiado programación en las últimas semanas, el cual le he puesto el valor `True`, como ejemplo. Supongamos además que me he puesto la meta de inscribirme a Aguarandu solo si he estudiado las últimas semanas. El desafío es hacer una especie de programa que me ayude a notificar mi decisión. Espero que estés dándote cuenta de la dificultad al cual nos enfrentamos dados los conocimientos que hemos adquirido hasta ahora: Todas las líneas de código que escribamos, se ejecutan. No hay forma de evitar o pasar por encima una línea de código. Si yo simplemente escribo las siguientes líneas de código:"
   ]
  },
  {
   "cell_type": "code",
   "execution_count": 2,
   "metadata": {
    "scrolled": true
   },
   "outputs": [
    {
     "name": "stdout",
     "output_type": "stream",
     "text": [
      "Inscribirse a Aguarandu\n",
      "No inscribirse a Aguarandu\n"
     ]
    }
   ],
   "source": [
    "print(\"Inscribirse a Aguarandu\")\n",
    "\n",
    "print(\"No inscribirse a Aguarandu\")"
   ]
  },
  {
   "cell_type": "markdown",
   "metadata": {},
   "source": [
    "Entonces estamos mostrando ambos mensajes, aún cuando en nuestro ejemplo si hemos estudiado!. Para solucionar este problema, Python nos provee de lo que se llama una *estructura condicional*. Se ve más o menos así:"
   ]
  },
  {
   "cell_type": "code",
   "execution_count": null,
   "metadata": {},
   "outputs": [],
   "source": [
    "'''\n",
    "if boolean:\n",
    "     --------------\n",
    "    |               |\n",
    "    | Instrucciones |\n",
    "    |               |\n",
    "     ---------------\n",
    "Esto ya no es una instrucción\n",
    "'''"
   ]
  },
  {
   "cell_type": "markdown",
   "metadata": {},
   "source": [
    "Posee tres elementos principales:\n",
    "\n",
    "1. **if**: Esta palabra le indicará a Python que una estructura está por comenzar. Se escribe siempre en minúsculas y es también una *palabra reservada*, lo que significa que no puedes nombrar a una variable de *if*, pues podría confundir con el inicio de una estructura. \n",
    "\n",
    "2. **boolean**: Es una variable de tipo boolean que va inmediatamente después del inicio de la estructura, y debe ir inmediatamente antes de los dos puntos (:). Le indica a Python si entrar o no en la estructura. Si el boolean tiene valor `True`, entra, si tiene valor `False`, no entra.\n",
    "\n",
    "3. **instrucciones**: Es cualquier secuencia de líneas de código que le sigan a los dos puntos y se ejecutan *solamente* si `boolean` tiene valor verdadero. Si `boolean` tiene valor falso, entonces se saltean las instrucciones completamente. \n",
    "\n",
    "Sin embargo, tal vez debes estar preguntándote cuándo es que las instrucciones terminan. Es decir, obviamente las instrucciones comienzan en la línea siguiente al inicio de la estructura condicional. Pero, ¿Cómo sabe Python cuándo las instrucciones ya no están dentro de la estructura? La respuesta se llama **indentación**. Una indentación equivale a apretar cuatro veces la barra espaciadora. No cinco. No tres. Exactamente cuatro espacios y Python sabrá que le estás pidiendo que esa línea de código se encuentre dentro de la estructura condicional. Veamos un ejemplo"
   ]
  },
  {
   "cell_type": "code",
   "execution_count": 3,
   "metadata": {},
   "outputs": [
    {
     "name": "stdout",
     "output_type": "stream",
     "text": [
      "Inscribirse a Aguarandu\n"
     ]
    }
   ],
   "source": [
    "if he_estudiado:\n",
    "    print(\"Inscribirse a Aguarandu\")"
   ]
  },
  {
   "cell_type": "markdown",
   "metadata": {},
   "source": [
    "Como podemos ver, la variable `he_estudiado` es del tipo booleano, pues lo definimos así antes, y le dimos el valor verdadero. Entonces Python realizará las instrucciones que estén dentro de la estructura. En este caso, imprimir `Inscribirse a Aguarandú`.  Veamos que pasa si cambiamos el valor de la variable:"
   ]
  },
  {
   "cell_type": "code",
   "execution_count": 4,
   "metadata": {},
   "outputs": [],
   "source": [
    "he_estudiado = False\n",
    "if he_estudiado:\n",
    "    print(\"Inscribirse a Aguarandu\")"
   ]
  },
  {
   "cell_type": "markdown",
   "metadata": {},
   "source": [
    "No pasó nada. En efecto, como la variable booleana tiene valor `False`, las instrucciones no se ejecutan. \n",
    "\n",
    "Veamos ahora que sucede si indentamos mal nuestras instrucciones:"
   ]
  },
  {
   "cell_type": "code",
   "execution_count": 5,
   "metadata": {},
   "outputs": [
    {
     "ename": "IndentationError",
     "evalue": "unexpected indent (<ipython-input-5-d53c1d3fd688>, line 3)",
     "output_type": "error",
     "traceback": [
      "\u001b[1;36m  File \u001b[1;32m\"<ipython-input-5-d53c1d3fd688>\"\u001b[1;36m, line \u001b[1;32m3\u001b[0m\n\u001b[1;33m    he_estudiado = True\u001b[0m\n\u001b[1;37m    ^\u001b[0m\n\u001b[1;31mIndentationError\u001b[0m\u001b[1;31m:\u001b[0m unexpected indent\n"
     ]
    }
   ],
   "source": [
    "if True:\n",
    "    print(\"Hola mundo\")\n",
    "     he_estudiado = True"
   ]
  },
  {
   "cell_type": "markdown",
   "metadata": {},
   "source": [
    "En este caso, la primera instrucción está bien indentada, pero la segunda tiene cinco espacios en lugar de cuatro. Si vemos un `IndentationError`, es un síntoma de que algo de ese estilo ocurrió en nuestro código. \n",
    "\n",
    "Veamos más dos ejemplos:"
   ]
  },
  {
   "cell_type": "code",
   "execution_count": 6,
   "metadata": {},
   "outputs": [
    {
     "name": "stdout",
     "output_type": "stream",
     "text": [
      "Inscribirse a Aguarandu\n",
      "---------\n",
      "No inscribirse a Aguarandu\n"
     ]
    }
   ],
   "source": [
    "he_estudiado = True\n",
    "\n",
    "if he_estudiado:\n",
    "    print(\"Inscribirse a Aguarandu\")\n",
    "    \n",
    "if not he_estudiado:\n",
    "    print(\"No inscribirse a Aguarandu\")\n",
    "    \n",
    "print(\"---------\")\n",
    "\n",
    "he_estudiado = False\n",
    "\n",
    "if he_estudiado:\n",
    "    print(\"Inscribirse a Aguarandu\")\n",
    "    \n",
    "if not he_estudiado:\n",
    "    print(\"No inscribirse a Aguarandu\")"
   ]
  },
  {
   "cell_type": "markdown",
   "metadata": {},
   "source": [
    "El segundo y el cuarto *if* no son absolutamente necesarios. Se suelen reemplazar por una sentencia *else*, que ejecuta las instrucciones que estén indentadas si es que boolean es `False`."
   ]
  },
  {
   "cell_type": "code",
   "execution_count": 7,
   "metadata": {},
   "outputs": [
    {
     "name": "stdout",
     "output_type": "stream",
     "text": [
      "No inscribirse a Aguarandu\n"
     ]
    }
   ],
   "source": [
    "if he_estudiado:\n",
    "    print(\"Inscribirse a Aguarandu\")\n",
    "else:\n",
    "    print(\"No inscribirse a Aguarandu\")"
   ]
  },
  {
   "cell_type": "markdown",
   "metadata": {},
   "source": [
    "Entonces el primer set de instrucciones se ejecuta cuando *boolean* es verdadero y el segundo si es falso. La estructura `else` **nunca** puede ir sucedido por un *boolean*, a diferencia de `if`, que **siempre** debe ir antes de un *boolean*.\n",
    "\n",
    " ###  Ejercicios: \n",
    " Encuentre los errores en las siguiente líneas de código (puede haber mas de uno por bloque)"
   ]
  },
  {
   "cell_type": "code",
   "execution_count": null,
   "metadata": {},
   "outputs": [],
   "source": [
    "#Ejercicio 4.a\n",
    "\n",
    "comi_manzana = True\n",
    "if comi_manzana\n",
    "    print(\"Soy una persona saludable\")\n",
    "else\n",
    "    print(\"Tal vez sea una persona saludable pero no como manzanas\")"
   ]
  },
  {
   "cell_type": "code",
   "execution_count": null,
   "metadata": {},
   "outputs": [],
   "source": [
    "#Ejercicio 4.b\n",
    "\n",
    "#Vamos a comprar periódicos si es domingo\n",
    "\n",
    "es_domingo = True\n",
    "\n",
    "if es_domingo:\n",
    "    print(\"Compremos periódicos!\")\n",
    "es_domingo = False\n",
    "    print(\"No hace falta comprar periódicos hoy\")"
   ]
  },
  {
   "cell_type": "code",
   "execution_count": null,
   "metadata": {},
   "outputs": [],
   "source": [
    "#Ejercicio 4.c\n",
    "\n",
    "#Definamos algunas variables \n",
    "\n",
    "angheluz= 47\n",
    "x=\"se cree que durante el 95% de toda nuestra historia los humanos fuimos nomadas, sin ciudades ni lenguaje escrito\"\n",
    "y=\"el lenguaje escrito es absurdamente util porque te permite leer el pensamiento de otras personas, incluso si murieron hace cientos de años\"\n",
    "sissi= \"otaku\"\n",
    "roque= \"Estudia matematicas\"\n",
    "elias=roque\n",
    "zxadfs=2**(1/2)\n",
    "if=37\n",
    "katherine= angheluz+1\n",
    "abigail=angheluz/katherine"
   ]
  },
  {
   "cell_type": "markdown",
   "metadata": {},
   "source": [
    "\n",
    "\n",
    "### Generando booleanos\n",
    "\n",
    "Recordemos que cuando estudiamos los enteros y los flotantes, vimos varias operaciones. Por ejemplo podemos sumar dos enteros `3 + 2`, multiplicarlos, `4 * 7`, dividirlos `16/2`, entre otras cosas. Todas estas operaciones daban como resultado un entero. Sin embargo existen otras operaciones que necesitan enteros, pero que dan como resultado booleanos. Listaremos las mas comunes aquí:\n",
    "\n",
    "1. Mayor a (>) y menor a (<): Necesitan de dos flotantes, y devuelve un booleano. Por ejemplo, `4 > 2` da como resultado `True`, y `-5 > 0` da como resultado `False`. \n",
    "\n",
    "2. Mayor o igual (>=) y menor o igual (<=): Necesitan de dos flotantes, y devuelve un booleano. Por ejemplo `4>= 5` da como resultado `False`, pero `3<=3` da como resultado `True`.\n",
    "\n",
    "3. Igual (==): Necesita dos objetos, y devuelve `True` si es que los objetos son iguales, `False` en caso contrario. Entonces `4 == 5` es `False`, y `0 == 0` es `True`. **No confundir es igual (==) con asignación (=)**\n",
    "\n",
    "4. No es igual (!=): Es lo contrario a es igual. Devuelve `True` cuando los objetos no son iguales y `False` cuando son iguales. Entonces `4 != 5` da comor esultado `True` y `7 != 7` da como resultado `False`. \n",
    " "
   ]
  },
  {
   "cell_type": "markdown",
   "metadata": {},
   "source": [
    "### Ejemplo\n",
    "\n",
    "Diseñe un algoritmo que determine si un número es o no es, par positivo.\n",
    "\n",
    "La idea es guardar lo que el usuario ingrese en una variable `x`, y seguidamente pensar cómo hacer para determinar si `x` es par o no. La idea es dar una ojeada a los números pares positivos: `2, 4, 6, 8, 10 `$\\dots$. ¿Qué de especial tienen?. Bueno, podemos ver que si tenemos una cantidad par de manzanas, digamos `6`, entonces podemos distribuir las manzanas a dos personas sin que sobre ninguna (en este caso, `3` para cada uno). Sin embargo, veamos que si la cantidad de manzanas fuese impar, por ejemplo `7`, entonces al repartir entre dos personas sobraría una manzana. Esto es lo que diferencia a los pares de los impares. Seguro recordarás que la operación módulo tiene que ver con repartir manzanas, asi que es por eso que usaremos esa operación:"
   ]
  },
  {
   "cell_type": "code",
   "execution_count": 8,
   "metadata": {},
   "outputs": [
    {
     "name": "stdout",
     "output_type": "stream",
     "text": [
      "Ingrese un entero:42\n",
      "El número es par positivo\n"
     ]
    }
   ],
   "source": [
    "x = int(input(\"Ingrese un entero:\"))\n",
    "\n",
    "if x>0:\n",
    "    if x%2 == 0:\n",
    "        print(\"El número es par positivo\")\n"
   ]
  },
  {
   "cell_type": "markdown",
   "metadata": {},
   "source": [
    "También se puede escribir así:"
   ]
  },
  {
   "cell_type": "code",
   "execution_count": 9,
   "metadata": {},
   "outputs": [
    {
     "name": "stdout",
     "output_type": "stream",
     "text": [
      "Ingrese un entero: 7\n"
     ]
    }
   ],
   "source": [
    "x = int(input(\"Ingrese un entero: \"))\n",
    "\n",
    "if x>0 and x%2 == 0:\n",
    "    print(\"El número es par positivo\")"
   ]
  },
  {
   "cell_type": "markdown",
   "metadata": {},
   "source": [
    "La idea es que se testea ambos criterios a la vez. La parte importante sin duda es `x>0 and x%2 == 0`. Léase \"$x$ mayor a cero y $x$ es par\""
   ]
  },
  {
   "cell_type": "markdown",
   "metadata": {},
   "source": [
    "### Ejercicios:\n",
    "\n",
    "1. Haga un programa que pida un número positivo al usuario e imprima si es múltiplo de 3 y 5, pero no de 7.\n",
    "\n",
    "2. Considere las siguientes expresiones:"
   ]
  },
  {
   "cell_type": "code",
   "execution_count": null,
   "metadata": {},
   "outputs": [],
   "source": [
    "#a)\n",
    "(4 > -4)\n",
    "#b)\n",
    "(7 >= 0) or (0 < 0)\n",
    "#c)\n",
    "(42 == 7*5)\n",
    "#d)\n",
    "True == (10 == 10)\n",
    "#e)\n",
    "(9 != 2) == False\n",
    "#f)\n",
    "(144 > 13 * 11) != False"
   ]
  },
  {
   "cell_type": "markdown",
   "metadata": {},
   "source": [
    "¿Cuántas de esas líneas de código dan como resultado `True`?"
   ]
  },
  {
   "cell_type": "markdown",
   "metadata": {},
   "source": [
    "Observe los siguientes bloques de código. Hay un error en cada línea. Proponga una solución para que el error ya no exista."
   ]
  },
  {
   "cell_type": "code",
   "execution_count": null,
   "metadata": {},
   "outputs": [],
   "source": [
    "#a)\n",
    "(7 == 5) and (True = True)"
   ]
  },
  {
   "cell_type": "code",
   "execution_count": null,
   "metadata": {},
   "outputs": [],
   "source": [
    "#b)\n",
    "(True =! False) or True"
   ]
  },
  {
   "cell_type": "code",
   "execution_count": null,
   "metadata": {},
   "outputs": [],
   "source": [
    "#c)\n",
    "False == (0%%2 == 0)"
   ]
  },
  {
   "cell_type": "code",
   "execution_count": null,
   "metadata": {},
   "outputs": [],
   "source": [
    "#d)\n",
    "False == (3 =< 5)"
   ]
  },
  {
   "cell_type": "markdown",
   "metadata": {},
   "source": [
    "### Estructura `if` + `elif`\n",
    "\n",
    "A veces tenemos más de una opción, no solamente dos. Por ejemplo, si está lloviendo querremos llevar nuestra sombrilla con nosotros, y si está soleado nuestro protector solar. Pero existen muchos otros climas. Si está nevando querremos llevar un abrigo, por ejemplo. Para eso existe la estructura adicional `elif`, que nos permite agregar capas a la estructura `if` para testear hasta que uno de los booleanos de verdadero\n"
   ]
  },
  {
   "cell_type": "code",
   "execution_count": 10,
   "metadata": {},
   "outputs": [
    {
     "name": "stdout",
     "output_type": "stream",
     "text": [
      "Ingrese el clima: soleado\n",
      "Llevar protector solar\n"
     ]
    }
   ],
   "source": [
    "clima = input(\"Ingrese el clima: \")\n",
    "\n",
    "if clima == \"lluvioso\":\n",
    "    print(\"Llevar sombrilla\")\n",
    "elif clima == \"soleado\":\n",
    "    print(\"Llevar protector solar\")\n",
    "elif clima == \"nevando\":\n",
    "    print(\"Llevar abrigo\")"
   ]
  },
  {
   "cell_type": "markdown",
   "metadata": {},
   "source": [
    "Veamos otro ejemplo. Supongamos que tengo una variable que representa la cantidad de huevos que hay en casa. Si hay menos de 5 huevos, debo ir a comprar más, si hay menos de 15 pero mas de 5 debo anotar una salida al super. Si hay mas de 15, no hago nada."
   ]
  },
  {
   "cell_type": "code",
   "execution_count": 11,
   "metadata": {},
   "outputs": [
    {
     "name": "stdout",
     "output_type": "stream",
     "text": [
      "Agendar salida al supermercado.\n"
     ]
    }
   ],
   "source": [
    "cant_huevos = 7\n",
    "\n",
    "if cant_huevos < 5:\n",
    "    print(\"Comprar más!\")\n",
    "elif cant_huevos < 15:\n",
    "    print(\"Agendar salida al supermercado.\")\n",
    "else:\n",
    "    print(\"No hacer nada\")"
   ]
  },
  {
   "cell_type": "markdown",
   "metadata": {},
   "source": [
    "En este caso la variable es igual a 7. La manera en que Python lee la estructura es analizando todos los if's y los elif's hasta que uno de los booleanos sea verdadero. Si todos salen Falso, entra en el else, sin importar qué. En este caso, el primer if realiza la operación `cant_huevos < 5`. Observe primero que `cant_huevos` es una variable numérica, y `5` también lo es, entonces tiene sentido hacer la operación \"menor a\". Como `cant_huevos = 7`, la operación es equivalente a `7 < 5`, que da como resultado `False`. Así, el primer bloque de instrucciones es ignorado. \n",
    "\n",
    "El segundo bloque evalúa `cant_huevos < 15`, el cual es igual a `True`. Entonces el segundo bloque de instrucciones se realiza, y consecuentemente se imprime el mensaje. \n",
    "\n",
    "Con respecto al tercer bloque, recuerde que el bloque `else` solo se ejecuta **cuando todos los bloques anteriores, if's y elif's dieron como resultado `False`**. Es por eso que no se muestra el mensaje `No hacer nada`."
   ]
  },
  {
   "cell_type": "markdown",
   "metadata": {},
   "source": [
    "> ### Ejercicios"
   ]
  },
  {
   "cell_type": "markdown",
   "metadata": {},
   "source": [
    "> Encuentre el error en las siguientes líneas de código:"
   ]
  },
  {
   "cell_type": "code",
   "execution_count": null,
   "metadata": {},
   "outputs": [],
   "source": [
    "#Ejercicio 4.\n",
    "\n",
    "#Vams a comprar huevos si es que hay menos de 10 huevos:\n",
    "\n",
    "cant_huevos = False\n",
    "\n",
    "if cant_huevos < 10:\n",
    "    print(\"Compar mas huevos\")\n",
    "else cant_huevos >= 10:\n",
    "    print(\"No hacer nada\")"
   ]
  },
  {
   "cell_type": "code",
   "execution_count": null,
   "metadata": {},
   "outputs": [],
   "source": [
    "#Ejercicio 4.\n",
    "\n",
    "cantidad_de_ombligos = 1\n",
    "if cantidad_de_ombligos < 1:\n",
    "    print(\"No tengo ombligo\")\n",
    "elif cantidad_de_ombligos = 1:\n",
    "    print(\"Tengo un ombligo\")\n",
    "else:\n",
    "    print(\"Tengo mas de un ombligo\")"
   ]
  },
  {
   "cell_type": "code",
   "execution_count": null,
   "metadata": {},
   "outputs": [],
   "source": [
    "#Ejercicio 4.\n",
    "\n",
    "#Si la variable es negativa, imprimir un mensaje\n",
    "\n",
    "x = \"-5\"\n",
    "\n",
    "if x < 0:\n",
    "    print(\"El número es negativo\")\n",
    "elif x >=0:\n",
    "    print(\"El número no es negativo\")"
   ]
  },
  {
   "cell_type": "markdown",
   "metadata": {},
   "source": [
    "> Resuelva las siguientes situaciones problemáticas:"
   ]
  },
  {
   "cell_type": "markdown",
   "metadata": {},
   "source": [
    "1. Diseñe un algoritmo que lea un número de tres cifras y determine si es igual al revés del número.\n",
    "\n",
    "2. El promedio de prácticas de un curso se calcula en base a cuatro prácticas calificadas de las cuales se elimina la nota menor y se promedian las tres notas más altas. Diseñe un algoritmo que reciba cuatro enteros positivos, muestre la nota eliminada y el promedio de prácticas de un estudiante."
   ]
  },
  {
   "cell_type": "markdown",
   "metadata": {},
   "source": [
    "Observe el siguiente bloque de código:"
   ]
  },
  {
   "cell_type": "code",
   "execution_count": null,
   "metadata": {},
   "outputs": [],
   "source": [
    "x=5\n",
    "y=7\n",
    "z=y-x\n",
    "c=0\n",
    "if x>(y-2): #Bloque1\n",
    "    print(\"Santas Calabazas\")\n",
    "else: #Bloque2\n",
    "    y=y-5\n",
    "    print(\"Yo, universo de atomos, atomo en el universo\")\n",
    "if c<z: #Bloque3\n",
    "    c=c+1\n",
    "    print(c)\n",
    "if c>=(y-1): #Bloque4\n",
    "     print(\"1=2\")\n",
    "elif z==2: #Bloque5\n",
    "    print(\"Yo soy tu padre\")"
   ]
  },
  {
   "cell_type": "markdown",
   "metadata": {},
   "source": [
    "¿Cuánas líneas de código imprimirá Python?"
   ]
  }
 ],
 "metadata": {
  "kernelspec": {
   "display_name": "Python 3",
   "language": "python",
   "name": "python3"
  },
  "language_info": {
   "codemirror_mode": {
    "name": "ipython",
    "version": 3
   },
   "file_extension": ".py",
   "mimetype": "text/x-python",
   "name": "python",
   "nbconvert_exporter": "python",
   "pygments_lexer": "ipython3",
   "version": "3.8.5"
  }
 },
 "nbformat": 4,
 "nbformat_minor": 4
}
