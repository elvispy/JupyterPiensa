{
 "cells": [
  {
   "cell_type": "markdown",
   "metadata": {},
   "source": [
    "### Cómo Python guarda variables. \n",
    "\n",
    "Antes de empezar con los tipos de datos que existen, es bueno saber cómo Python guarda variables. Para hacerlo, usamos el operador de asignación `(=)`. Del lado izquierdo ponemos el nombre de la variable, y del lado derecho ponemos el valor que queremos que se guarde. Podemos pensar que nuestra computadora es un depósito con una cantidad exorbitante de cajas vacías que Python usa para guardar los valores con etiquetas. Entonces, cuando escribimos \n",
    "\n",
    "> `a = 3`\n",
    "\n",
    "Es como decirle a Python \"Python, por favor, entre todas las cajas vacías que hay en mi computadora, escoge una, ponle una etiqueta que diga \"a\", y adentro de la caja guarda el valor \"3\". Y si escribimos:\n",
    "\n",
    "> `b = 4 * a`\n",
    "\n",
    "Es equivalente a decir \"Python, por favor, entre todas las cajas vacías que hay en mi computadora, escoge una, ponle una etiqueta que diga \"b\". Luego ve a la caja que tiene etiqueta \"a\", agarra el valor de esa caja, multiplícala por 4, y ese resultado guárdalo en la caja \"b\". \n",
    "\n",
    "Entonces, ahora no se deberían sorprender si ven algo del tipo:\n",
    "\n",
    "> `a = b - a`\n",
    "\n",
    "Es equivalente a decir \"Agarra el valor que tenga la caja \"b\", luego agarra el valor que tenga la caja \"a\", y resta estos dos números. El resultado guárdalo en la caja \"a\", tirando a la basura el número anterior que estaba en la caja \"a\"\".\n",
    "\n",
    "En ésta última operación, notemos el valor del número en la caja \"b\" no cambió. Además, es legítimo pedirle a python que revise en cajas con valores adentro (es decir, del lado derecho también pueden ir variables)."
   ]
  },
  {
   "cell_type": "markdown",
   "metadata": {},
   "source": [
    "### Ejercicios. \n",
    "\n",
    "> Supongamos que tenemos las siguientes variables con sus respectivos valores: `a = 2`, `b = 7`, `c = 11`. ¿Cuál es el valor de las siguientes variables?\n",
    "\n",
    "1. `d = b * a - c`\n",
    "2. `e = b * b - c * a + 1`\n",
    "3. `f = e + d * a - b * c`\n",
    "\n",
    "> Tenemos las mismas variables `a`, `b`, `c` del ejercicio anterior. Ahora necesitamos crear una expresión que de un valor específico. Por ejemplo, si el valor es igual a `101`, entonces la expresión `c * c - 2 * b - 3 * a` es igual a `101`. \n",
    "\n",
    "1. $0$\n",
    "2. $-5$\n",
    "3. $27$\n",
    "4. $0.5$\n",
    "4. $1.8$"
   ]
  },
  {
   "cell_type": "markdown",
   "metadata": {},
   "source": [
    "# Tipos de datos\n",
    "\n",
    "En esta sección vamos a trabajar con los tipos de datos mas usuales en Python. Cuando guardamos un valor en una variable, Python le asigna un tipo, una especie de etiqueta que le permite saber lo que es posible hacer con ese objeto. Por ejemplo, en la vida real podemos pensar que tenemos varios tipos de objetos. Uno de ellos pueden ser las \"mascotas\" y otros pueden ser \"comida\". Por ejemplo, mi gato es una mascota, pero no es comida. Mi sandwich es comida, pero no es una mascota. También existen operaciones en la vida real, como \"bañar\" y \"agregarle ketchup\". Mi cerebro sabe que yo puedo agregarle ketchup si quiero a mi sandwich, pero eso no es posible hacerlo con mi gato. En Python pasa algo parecido: Existen tipos de datos y operaciones, pero no siempre podemos realizar ciertas operaciones con ciertos tipos de datos. Python lanza un error cuando intentamos hacer cosas del tipo \"bañar a mi sandwich\". \n",
    "\n",
    "### El tipo entero. \n",
    "\n",
    "Hasta ahora solo hemos definido variables del tipo entero. Son números sin decimales y que pueden tener signo (ejemplo `-5, 0, 14, 100, -2020`). Existen ciertas operaciones asociadas a los enteros, por ejemplo\n",
    "\n",
    "La suma `+`, la resta `-`, la multiplicación `*`, la división `/`. Todas éstas operaciones funcionan como en una calculadora.\n",
    "\n",
    "Sin embargo, existen otras tres operaciones importantes en programación:\n",
    "\n",
    "1. La potenciación (`a ** b`): Es equivalente a multiplicar \"a\", \"b\" veces. Por ejemplo, `2 ** 5` es igual a `2 * 2 * 2 * 2 * 2` que es igual a `32`. \n",
    "\n",
    "2. La división entera (`a // b`): Es equivalente a dividir \"a\" con \"b\", pero eliminando los decimales siguientes. Por ejemplo, en una calculadora, `27/12` sale `2.25`, pero ignorando los decimales, `27//12` es igual `2`\n",
    "\n",
    "3. El módulo (`a % b`): Intentemos calcular, por ejemplo `7%2`. Imaginemos que tenemos 7 manzanas y una familia de 2 personas y debemos repartir equitativamente las frutas entre los miembros de la familia, sin partir las manzanas. Entonces daríamos tres manzanas a cada uno, y sobraría una manzana. Esa cantidad de manzanas sobrantes es el módulo. Entonces `7%2` es igual a `1`. Otro ejemplo, `13%4 = 1`, `15%5 = 0`. "
   ]
  },
  {
   "cell_type": "markdown",
   "metadata": {},
   "source": [
    "### El tipo flotante. \n",
    "\n",
    "Son los números que poseen decimales, por ejemplo, `4.12`, o `1.5`. Equivalentemente  Es cualquier numero que es procedido por un punto, que es el separador decimal de python, como\n",
    "\n",
    "`var = 2.1\n",
    "pi = 3.14159`\n",
    "\n",
    "Todas las operaciones válidas con los enteros son válidas con las variables de tipo flotante. En general, son muy parecidos. La diferencia mas sutil que se puede encontrar es que el tipo flotante ocupa más espacio en memoria (Necesita \"cajas\" más grandes). Pero a efectos prácticos para nosotros, son casi indistinguibles."
   ]
  },
  {
   "cell_type": "markdown",
   "metadata": {},
   "source": [
    "> ### Ejercicios.\n",
    "\n",
    "Prediga el valor de la variable `x` al final de cada bloque de código."
   ]
  },
  {
   "cell_type": "code",
   "execution_count": null,
   "metadata": {},
   "outputs": [],
   "source": [
    "#Ejercicio 2.a\n",
    "\n",
    "x = 3\n",
    "a = 3 * x - 2\n",
    "b = a ** x\n",
    "a = b / ( a + x)\n",
    "x = a // x"
   ]
  },
  {
   "cell_type": "code",
   "execution_count": null,
   "metadata": {},
   "outputs": [],
   "source": [
    "#Ejercicio 2.b\n",
    "\n",
    "a = 3\n",
    "b = a // 2\n",
    "c = (a + b) % b\n",
    "x = -b + c * a"
   ]
  },
  {
   "cell_type": "code",
   "execution_count": null,
   "metadata": {},
   "outputs": [],
   "source": [
    "#Ejercicio 2.c\n",
    "\n",
    "a, b = 5, 2\n",
    "x = b - a\n",
    "c = b ** 2\n",
    "d = c % (b // 2)\n",
    "x = d + c - 1"
   ]
  },
  {
   "cell_type": "code",
   "execution_count": null,
   "metadata": {},
   "outputs": [],
   "source": [
    "#Ejercicio 2.d\n",
    "\n",
    "a = 3\n",
    "b = a % 1\n",
    "c = a + 3 * b\n",
    "d = c * a - b // c\n",
    "x = d ** (a // 2)"
   ]
  },
  {
   "cell_type": "code",
   "execution_count": null,
   "metadata": {},
   "outputs": [],
   "source": [
    "#Ejercicio 1.e\n",
    "#¿Cuántos errores hay en el siguiente bloque de código?\n",
    "\n",
    "dos = 1\n",
    "uno = dos + dos\n",
    "dos = uno - 2*dos\n",
    "tres= 5/dos\n",
    "cinco = tres*uno"
   ]
  },
  {
   "cell_type": "markdown",
   "metadata": {},
   "source": [
    "### El tipo String o Cadena de texto\n",
    "\n",
    "En python, podemos guardar texto en una variable, por ejemplo\n",
    "\n",
    "`a = \"Esta es una variable de texto\"`. \n",
    "\n",
    "Para guardar strings debemos encerrar el texto entre comillas dobles (\"\") o comillas simples ('') (`a = 'Esta es una variable de texto'` es válido también). Existen ciertos caracteres que se escriben diferente. Por ejemplo, supongamos que queremos que nuestra variable contenga dos oraciones separadas por un salto de línea (un \"enter\"):"
   ]
  },
  {
   "cell_type": "code",
   "execution_count": 1,
   "metadata": {
    "scrolled": true
   },
   "outputs": [
    {
     "ename": "SyntaxError",
     "evalue": "EOL while scanning string literal (<ipython-input-1-d815528c3258>, line 1)",
     "output_type": "error",
     "traceback": [
      "\u001b[1;36m  File \u001b[1;32m\"<ipython-input-1-d815528c3258>\"\u001b[1;36m, line \u001b[1;32m1\u001b[0m\n\u001b[1;33m    a = \"Esta variable\u001b[0m\n\u001b[1;37m                      ^\u001b[0m\n\u001b[1;31mSyntaxError\u001b[0m\u001b[1;31m:\u001b[0m EOL while scanning string literal\n"
     ]
    }
   ],
   "source": [
    "a = \"Esta variable\n",
    "ocupa dos lineas\""
   ]
  },
  {
   "cell_type": "markdown",
   "metadata": {},
   "source": [
    "Obtenemos un error. El error \"EOL while scanning string literal\" salta debido a que Python siempre espera que terminemos una operación en la misma línea. Python no sabe dónde termina el string de la primera línea, entonces lanza un error. Antes de solucionar este error, veamos otro ejemplo:"
   ]
  },
  {
   "cell_type": "code",
   "execution_count": 2,
   "metadata": {},
   "outputs": [
    {
     "ename": "SyntaxError",
     "evalue": "invalid syntax (<ipython-input-2-5686a67f4bbc>, line 2)",
     "output_type": "error",
     "traceback": [
      "\u001b[1;36m  File \u001b[1;32m\"<ipython-input-2-5686a67f4bbc>\"\u001b[1;36m, line \u001b[1;32m2\u001b[0m\n\u001b[1;33m    = 3\u001b[0m\n\u001b[1;37m    ^\u001b[0m\n\u001b[1;31mSyntaxError\u001b[0m\u001b[1;31m:\u001b[0m invalid syntax\n"
     ]
    }
   ],
   "source": [
    "a\n",
    "= 3"
   ]
  },
  {
   "cell_type": "markdown",
   "metadata": {},
   "source": [
    "La asignación `a = 3` debe realizarse en una sola línea. Para solucionar el primer problema, debemos memorizar que los saltos de línea se escriben así: `\\n`. Entonces si escribimos"
   ]
  },
  {
   "cell_type": "code",
   "execution_count": 3,
   "metadata": {},
   "outputs": [
    {
     "data": {
      "text/plain": [
       "'Esta variable \\n ocupa dos líneas'"
      ]
     },
     "execution_count": 3,
     "metadata": {},
     "output_type": "execute_result"
    }
   ],
   "source": [
    "c = \"Esta variable \\n ocupa dos líneas\"\n",
    "c"
   ]
  },
  {
   "cell_type": "markdown",
   "metadata": {},
   "source": [
    "Antes de continuar, observemos que ninguna de las operaciones que se hacen entre datos enteros funciona para los strings:"
   ]
  },
  {
   "cell_type": "code",
   "execution_count": 4,
   "metadata": {},
   "outputs": [
    {
     "ename": "TypeError",
     "evalue": "can't multiply sequence by non-int of type 'str'",
     "output_type": "error",
     "traceback": [
      "\u001b[1;31m---------------------------------------------------------------------------\u001b[0m",
      "\u001b[1;31mTypeError\u001b[0m                                 Traceback (most recent call last)",
      "\u001b[1;32m<ipython-input-4-43f091e27006>\u001b[0m in \u001b[0;36m<module>\u001b[1;34m\u001b[0m\n\u001b[0;32m      1\u001b[0m \u001b[0ma\u001b[0m \u001b[1;33m=\u001b[0m \u001b[1;34m\"Hola\"\u001b[0m\u001b[1;33m\u001b[0m\u001b[1;33m\u001b[0m\u001b[0m\n\u001b[0;32m      2\u001b[0m \u001b[0mb\u001b[0m \u001b[1;33m=\u001b[0m \u001b[1;34m\"Mundo\"\u001b[0m\u001b[1;33m\u001b[0m\u001b[1;33m\u001b[0m\u001b[0m\n\u001b[1;32m----> 3\u001b[1;33m \u001b[0ma\u001b[0m \u001b[1;33m*\u001b[0m \u001b[0mb\u001b[0m\u001b[1;33m\u001b[0m\u001b[1;33m\u001b[0m\u001b[0m\n\u001b[0m",
      "\u001b[1;31mTypeError\u001b[0m: can't multiply sequence by non-int of type 'str'"
     ]
    }
   ],
   "source": [
    "a = \"Hola\"\n",
    "b = \"Mundo\"\n",
    "a * b"
   ]
  },
  {
   "cell_type": "markdown",
   "metadata": {},
   "source": [
    "El error dice que no se puede multiplicar dos strings (abreviado 'str'). Sin embargo, hay una excepción a la regla, pues podemos sumar dos strings, lo que se conoce como *concatenación*:"
   ]
  },
  {
   "cell_type": "code",
   "execution_count": 5,
   "metadata": {},
   "outputs": [
    {
     "data": {
      "text/plain": [
       "'HolaMundo'"
      ]
     },
     "execution_count": 5,
     "metadata": {},
     "output_type": "execute_result"
    }
   ],
   "source": [
    "a = \"Hola\"\n",
    "b = \"Mundo\"\n",
    "a + b"
   ]
  },
  {
   "cell_type": "markdown",
   "metadata": {},
   "source": [
    "El cual concatena ambos strings. A diferencia de los enteros o flotantes, el orden de los sumandos si importa:"
   ]
  },
  {
   "cell_type": "code",
   "execution_count": 6,
   "metadata": {},
   "outputs": [
    {
     "data": {
      "text/plain": [
       "'MundoHola'"
      ]
     },
     "execution_count": 6,
     "metadata": {},
     "output_type": "execute_result"
    }
   ],
   "source": [
    "b + a"
   ]
  },
  {
   "cell_type": "markdown",
   "metadata": {},
   "source": [
    "La función `print()` escribe el valor de los argumentos que se le dan. Difiere de simplemente escribir la expresión que se quiere mostrar (como hicimos antes en los ejemplos de la calculadora) en la forma en que maneja múltiples argumentos, cantidades de punto flotante y cadenas. Además, `print` debe ser usado en un script. Las cadenas de texto son impresas sin comillas y un espacio en blanco se inserta entre los elementos, así puedes formatear cosas de una forma agradable"
   ]
  },
  {
   "cell_type": "code",
   "execution_count": 7,
   "metadata": {},
   "outputs": [
    {
     "name": "stdout",
     "output_type": "stream",
     "text": [
      "Esta variable \n",
      " ocupa dos líneas\n"
     ]
    }
   ],
   "source": [
    "print(c)"
   ]
  },
  {
   "cell_type": "markdown",
   "metadata": {},
   "source": [
    "Ahi vemos que desapareció el `\\n` y en su lugar hay un salto de línea. Cuando estemos trabajando en un script, debemos usar siempre `print`, con poner el nombre de la variable sin más no nos mostrará el resultado. A partir de ahora usaré siempre `print`. Print también puede mostrar enteros, o varias variables al mismo tiempo:"
   ]
  },
  {
   "cell_type": "code",
   "execution_count": 8,
   "metadata": {},
   "outputs": [
    {
     "name": "stdout",
     "output_type": "stream",
     "text": [
      "La división sale:  2.0\n"
     ]
    }
   ],
   "source": [
    "x1 = 14\n",
    "x2 = 7\n",
    "x3 = \"La división sale: \"\n",
    "print(x3, x1/x2)"
   ]
  },
  {
   "cell_type": "markdown",
   "metadata": {},
   "source": [
    "Es cuestión de dividir por comas las variables. \n",
    "\n",
    "Por completitud, veamos lo que pasa si queremos realizar, por ejemplo, una resta entre strings"
   ]
  },
  {
   "cell_type": "code",
   "execution_count": 9,
   "metadata": {},
   "outputs": [
    {
     "ename": "TypeError",
     "evalue": "unsupported operand type(s) for -: 'str' and 'str'",
     "output_type": "error",
     "traceback": [
      "\u001b[1;31m---------------------------------------------------------------------------\u001b[0m",
      "\u001b[1;31mTypeError\u001b[0m                                 Traceback (most recent call last)",
      "\u001b[1;32m<ipython-input-9-b6199382ecad>\u001b[0m in \u001b[0;36m<module>\u001b[1;34m\u001b[0m\n\u001b[1;32m----> 1\u001b[1;33m \u001b[0mprint\u001b[0m\u001b[1;33m(\u001b[0m\u001b[0ma\u001b[0m\u001b[1;33m-\u001b[0m\u001b[0mb\u001b[0m\u001b[1;33m)\u001b[0m\u001b[1;33m\u001b[0m\u001b[1;33m\u001b[0m\u001b[0m\n\u001b[0m",
      "\u001b[1;31mTypeError\u001b[0m: unsupported operand type(s) for -: 'str' and 'str'"
     ]
    }
   ],
   "source": [
    "print(a-b)"
   ]
  },
  {
   "cell_type": "markdown",
   "metadata": {},
   "source": [
    "El `TypeError` aparece cuando queremos hacer operaciones entre tipos que no tienen sentido (bañar un sandwich, por ejemplo). En este caso, no tiene sentido restar dos strings.\n",
    "\n",
    "Existe una otra operación con strings, se llama *indexing*. La idea es que cuando guardamos un string, python ordena las letras empezando por el cero:\n"
   ]
  },
  {
   "cell_type": "code",
   "execution_count": 10,
   "metadata": {},
   "outputs": [
    {
     "name": "stdout",
     "output_type": "stream",
     "text": [
      "i\n"
     ]
    }
   ],
   "source": [
    "'''\n",
    "x =  \"g      a      t      i      t      o\"\n",
    "      ^      ^      ^      ^      ^      ^\n",
    "      |      |      |      |      |      |\n",
    "      |      |      |      |      |      |\n",
    "    x[0]   x[1]   x[2]   x[3]   x[4]   x[5]\n",
    "'''\n",
    "x = \"gatito\"\n",
    "print(x[3])"
   ]
  },
  {
   "cell_type": "markdown",
   "metadata": {},
   "source": [
    "Observemos que python empieza a contar desde cero. Entonces `x[0]` siempre se refiere al primer caracter del string (Inclusive si es un espacio en blanco!)"
   ]
  },
  {
   "cell_type": "code",
   "execution_count": 11,
   "metadata": {},
   "outputs": [
    {
     "name": "stdout",
     "output_type": "stream",
     "text": [
      "   \n"
     ]
    }
   ],
   "source": [
    "x = \" espacios en blanco cuentan\"\n",
    "print(x[0], x[9])"
   ]
  },
  {
   "cell_type": "markdown",
   "metadata": {},
   "source": [
    "No se ve nada, puesto que tanto el primer como el décimo caracter del string son espacios en blanco. \n",
    "\n",
    "Finalmente, podemos hacer una operación que se llama slicing. Nos permite obtener un string mas pequeño que el original."
   ]
  },
  {
   "cell_type": "code",
   "execution_count": 12,
   "metadata": {},
   "outputs": [
    {
     "name": "stdout",
     "output_type": "stream",
     "text": [
      "Ho\n"
     ]
    }
   ],
   "source": [
    "word = \"Hola mundo \"\n",
    "print(word[0:2])  # Elementos desde la posición 0 (incluido) al 2 (excluido)"
   ]
  },
  {
   "cell_type": "markdown",
   "metadata": {},
   "source": [
    "Nos permite obtener un substring, en este caso lo que se pone dentro de los corchetes son dos enteros `a:b`, donde `a` es la primera posición del substring y `b` es la última."
   ]
  },
  {
   "cell_type": "code",
   "execution_count": 13,
   "metadata": {},
   "outputs": [
    {
     "name": "stdout",
     "output_type": "stream",
     "text": [
      "a mu\n"
     ]
    }
   ],
   "source": [
    "print(word[3:7])"
   ]
  },
  {
   "cell_type": "markdown",
   "metadata": {},
   "source": [
    "También podemos omitir `a` o `b` (o ambos):"
   ]
  },
  {
   "cell_type": "code",
   "execution_count": 14,
   "metadata": {},
   "outputs": [
    {
     "name": "stdout",
     "output_type": "stream",
     "text": [
      "la mundo \n",
      "Hola m\n",
      "Hola mundo \n"
     ]
    }
   ],
   "source": [
    "print(word[2:]) #Desde el segundo elemento hasta el final\n",
    "print(word[:6]) #Desde el elemento cero hasta el elemento seis\n",
    "print(word[:])  #Desde el comienzo hasta el final"
   ]
  },
  {
   "cell_type": "markdown",
   "metadata": {},
   "source": [
    "Podemos preguntarnos si es que es posible por ejemplo agarrar un string y cambiar un único caracter, digamos, el que está en la quinta posición:"
   ]
  },
  {
   "cell_type": "code",
   "execution_count": 15,
   "metadata": {},
   "outputs": [
    {
     "ename": "TypeError",
     "evalue": "'str' object does not support item assignment",
     "output_type": "error",
     "traceback": [
      "\u001b[1;31m---------------------------------------------------------------------------\u001b[0m",
      "\u001b[1;31mTypeError\u001b[0m                                 Traceback (most recent call last)",
      "\u001b[1;32m<ipython-input-15-2aa11f59bbd0>\u001b[0m in \u001b[0;36m<module>\u001b[1;34m\u001b[0m\n\u001b[1;32m----> 1\u001b[1;33m \u001b[0mword\u001b[0m\u001b[1;33m[\u001b[0m\u001b[1;36m4\u001b[0m\u001b[1;33m]\u001b[0m \u001b[1;33m=\u001b[0m \u001b[1;34m'j'\u001b[0m\u001b[1;33m\u001b[0m\u001b[1;33m\u001b[0m\u001b[0m\n\u001b[0m",
      "\u001b[1;31mTypeError\u001b[0m: 'str' object does not support item assignment"
     ]
    }
   ],
   "source": [
    "word[4] = 'j'"
   ]
  },
  {
   "cell_type": "markdown",
   "metadata": {},
   "source": [
    "La respuesta es no. Los strings no son objetos parcialmente mutables. No se puede cambiar una letra o un substring del string. Sin embargo, podemos crear un nuevo string que cumpla nuestros requisitos:"
   ]
  },
  {
   "cell_type": "code",
   "execution_count": 16,
   "metadata": {},
   "outputs": [
    {
     "name": "stdout",
     "output_type": "stream",
     "text": [
      "Holajmundo \n"
     ]
    }
   ],
   "source": [
    "nuevo_string = word[:4] + 'j' + word[5:]\n",
    "print(nuevo_string)"
   ]
  },
  {
   "cell_type": "markdown",
   "metadata": {},
   "source": [
    "O inclusive escribir\n",
    "\n",
    "`word = word[:4] + 'j' + word[5:]`\n",
    "\n",
    "Lo que no se puede hacer es cambiar una sola letra. Todo o nada."
   ]
  },
  {
   "cell_type": "markdown",
   "metadata": {},
   "source": [
    "> ### Ejercicios\n",
    "\n"
   ]
  },
  {
   "cell_type": "code",
   "execution_count": null,
   "metadata": {},
   "outputs": [],
   "source": [
    "#Ejercicio 2.f\n",
    "\n",
    "#En cada uno de los tres casos siguientes, intente predecir qué va a imprimir el código y luego copie el bloque \n",
    "#en el IDLE para verificar los resultados\n",
    "\n",
    "#Primer bloque\n",
    "a=\"12\"\n",
    "b=\"3\"\n",
    "print(a+b)\n",
    "\n",
    "#Segundo bloque\n",
    "c=\"Cdeciencia\"\n",
    "print(c[3:] + c[1:3] + c[0])\n",
    "\n",
    "#Tercer Bloque\n",
    "pelotudez=\"Latierraesplana\"\n",
    "\n",
    "print(pelotudez[:2],pelotudez[2:8],pelotudez[8:10],pelotudez[10:])"
   ]
  },
  {
   "cell_type": "code",
   "execution_count": null,
   "metadata": {},
   "outputs": [],
   "source": [
    "#Ejercicio 2.g\n",
    "\n",
    "# Imprima  el contenido de las siguientes variables con los espacios correspondientes\n",
    "#Por ejemplo, la variable\n",
    "co2 = \"DioxidodeCarbono\"\n",
    "#Se imprime asi:\n",
    "print(co2[:7], co2[7:9], co2[9:])\n",
    "\n",
    "a= \"Elconjuntodelosnúmerospares\"\n",
    "b= \"Porquedeesosetrata\"\n",
    "c=\"somoselpresenteyelfuturo\"\n",
    "d=\"chutaalmediotakuara\""
   ]
  },
  {
   "cell_type": "code",
   "execution_count": null,
   "metadata": {},
   "outputs": [],
   "source": [
    "#Ejercicio 2.h\n",
    "\n",
    "#Considere las siguientes variables\n",
    "a= \"de segundos\"\n",
    "b= \"millon\"\n",
    "c= \"son\"\n",
    "d=\" \"\n",
    "e=\"billon\"\n",
    "f=\"Un\"\n",
    "g=\"dias\"\n",
    "h=\"años\"\n",
    "x=12\n",
    "y= 30000\n",
    "#Utilizando estas variables imprima la siguiente frase en el IDLE:\n",
    "#Un millon de segundos son 12 dias Un billon de segundos son 30000 anos"
   ]
  },
  {
   "cell_type": "code",
   "execution_count": null,
   "metadata": {},
   "outputs": [],
   "source": [
    "#Ejercicio 2.i\n",
    "\n",
    "#Para este ejercicio disponés de las siguietes variables:\n",
    "\n",
    "x=2\n",
    "edad=0\n",
    "a=\"Tengo\"\n",
    "b=\" \"\n",
    "c=\"años\"\n",
    "\n",
    "#En el IDLE, asignale a la variable edad tu edad real y usando el resto de las variables\n",
    "#debes imprimir el mensaje \"Tengo -- años\""
   ]
  },
  {
   "cell_type": "code",
   "execution_count": null,
   "metadata": {},
   "outputs": [],
   "source": [
    "#Ejercicio 2.j\n",
    "\n",
    "#En el IDLE, defina tres variables \"a, b, c\" que deben ser numéricos y representan los lados de un triángulo\n",
    "#Imprima el perímetro del triángulo usando la función print()"
   ]
  }
 ],
 "metadata": {
  "kernelspec": {
   "display_name": "Python 3",
   "language": "python",
   "name": "python3"
  },
  "language_info": {
   "codemirror_mode": {
    "name": "ipython",
    "version": 3
   },
   "file_extension": ".py",
   "mimetype": "text/x-python",
   "name": "python",
   "nbconvert_exporter": "python",
   "pygments_lexer": "ipython3",
   "version": "3.8.5"
  }
 },
 "nbformat": 4,
 "nbformat_minor": 4
}
