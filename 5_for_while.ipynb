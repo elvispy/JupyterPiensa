{
 "cells": [
  {
   "cell_type": "markdown",
   "metadata": {},
   "source": [
    "# Estructuras de bucles. \n",
    "\n",
    "A veces, nuestro código puede tornarse muy muy largo. Consideremos la siguinte lista de alumnos"
   ]
  },
  {
   "cell_type": "code",
   "execution_count": 1,
   "metadata": {},
   "outputs": [],
   "source": [
    "clase = [\"Pedrito\", \"Marcial\", \"Elias\", \"Ariel\"]"
   ]
  },
  {
   "cell_type": "markdown",
   "metadata": {},
   "source": [
    "Supongamos que es el dia de la juventud, y quiero felicitar a todos mis alumnos personalmente (por Python). El código quedaría más o menos así:"
   ]
  },
  {
   "cell_type": "code",
   "execution_count": 2,
   "metadata": {},
   "outputs": [
    {
     "name": "stdout",
     "output_type": "stream",
     "text": [
      "Feliz dia de la juventud,  Pedrito !\n",
      "Feliz dia de la juventud,  Marcial !\n",
      "Feliz dia de la juventud,  Elias !\n",
      "Feliz dia de la juventud,  Ariel !\n"
     ]
    }
   ],
   "source": [
    "print(\"Feliz dia de la juventud, \", clase[0], \"!\")\n",
    "print(\"Feliz dia de la juventud, \", clase[1], \"!\")\n",
    "print(\"Feliz dia de la juventud, \", clase[2], \"!\")\n",
    "print(\"Feliz dia de la juventud, \", clase[3], \"!\")"
   ]
  },
  {
   "cell_type": "markdown",
   "metadata": {},
   "source": [
    "Desde luego, esto me tomó poco tiempo, aproximadamente 30 segundos. Pero, ¿Y si tengo $100$ alumnos? No sería placentero estar escribiendo esas cien líneas de código, ni eficiente en realidad. Es por ese tipo de situaciones que, al igual que la estructura `if`, existe la estructura `for`, que luce más o menos así:"
   ]
  },
  {
   "cell_type": "code",
   "execution_count": null,
   "metadata": {},
   "outputs": [],
   "source": [
    "'''\n",
    "for |variable| in LISTA:\n",
    "     -----------------------\n",
    "    |                       |\n",
    "    |                       |\n",
    "    |                       |\n",
    "    |    Aqui van tus       |\n",
    "    |    instrucciones      |\n",
    "    |                       |\n",
    "    |                       |\n",
    "    |                       |\n",
    "     -----------------------\n",
    "(Esto ya no es una instruccion)\n",
    "'''"
   ]
  },
  {
   "cell_type": "markdown",
   "metadata": {},
   "source": [
    "Lo que va a realizar este bucle `for` es repetir las instrucciones dentro de la estructura **por cada elemento de la LISTA**. Si la lista tiene 10 elementos, lo hará 10 veces. \n",
    "\n",
    "Podemos identificar varios componentes en la estructura:\n",
    "\n",
    "1. La palabra `for`: Es la palabra reservada que Python usa para que le indiquemos que una estructura for está por comenzar\n",
    "\n",
    "2. `variable`: Es una variable nueva que podemos definir como queramos. \n",
    "\n",
    "3. `LISTA`: Es una variable tipo lista (o string!) que ya debe estar definida antes. (No olvidar los dos puntos al final de la línea!)\n",
    "\n",
    "4. Instrucciones: Son las líneas de código que se van a repetir por cada elemento de la lista. Deben estar debidamente indentados, igual que una estructura `if`.\n",
    "\n",
    "5. Operador `in`: En este caso, es simplemente una necesidad de sintaxis ponerlo en el `for`. Sin ella, nos saltará un error.\n",
    "\n",
    "Entonces nuestro código de felicitación a todos mis alumnos queda mas o menos así:"
   ]
  },
  {
   "cell_type": "code",
   "execution_count": 3,
   "metadata": {},
   "outputs": [
    {
     "name": "stdout",
     "output_type": "stream",
     "text": [
      "Feliz dia de la juventud,  Pedrito !\n",
      "Feliz dia de la juventud,  Marcial !\n",
      "Feliz dia de la juventud,  Elias !\n",
      "Feliz dia de la juventud,  Ariel !\n"
     ]
    }
   ],
   "source": [
    "for i in clase:\n",
    "    print(\"Feliz dia de la juventud, \", i, \"!\")"
   ]
  },
  {
   "cell_type": "markdown",
   "metadata": {},
   "source": [
    "*Ejercicio: Por qué se puso `i`, y no `clase[i]`?*\n",
    "\n",
    "Observe algo no trivial: la función `print` realiza un salto de línea automático.\n",
    "\n",
    "Otro ejemplo, donde imprimiremos solo el nombre del alumno y la cantidad de letras en su nombre:"
   ]
  },
  {
   "cell_type": "code",
   "execution_count": 4,
   "metadata": {},
   "outputs": [
    {
     "name": "stdout",
     "output_type": "stream",
     "text": [
      "Pedrito 7\n",
      "Marcial 7\n",
      "Elias 5\n",
      "Ariel 5\n"
     ]
    }
   ],
   "source": [
    "for nino in clase:\n",
    "    print(nino, len(nino)) #nombre + largor"
   ]
  },
  {
   "cell_type": "markdown",
   "metadata": {},
   "source": [
    "### La función `range`\n",
    "\n",
    "Si se necesita iterar sobre una secuencia de números, es apropiado utilizar la función integrada range(), la cual genera progresiones aritméticas:"
   ]
  },
  {
   "cell_type": "code",
   "execution_count": 5,
   "metadata": {},
   "outputs": [
    {
     "name": "stdout",
     "output_type": "stream",
     "text": [
      "0\n",
      "1\n",
      "2\n",
      "3\n",
      "4\n"
     ]
    }
   ],
   "source": [
    "for i in range(5):\n",
    "    print(i)"
   ]
  },
  {
   "cell_type": "markdown",
   "metadata": {},
   "source": [
    "La función range, cuando recibe un solo argumento, va a iterar desde `0` hasta `variable - 1`. En este caso, `variable = 5`. Si range recibe dos argumentos (`range(a, b)`), entonces iterará desde `a` hasta `b-1`.\n",
    "\n",
    "Ejemplo: imprimir todos los números del 10 al 21."
   ]
  },
  {
   "cell_type": "code",
   "execution_count": 6,
   "metadata": {},
   "outputs": [
    {
     "name": "stdout",
     "output_type": "stream",
     "text": [
      "10\n",
      "11\n",
      "12\n",
      "13\n",
      "14\n",
      "15\n",
      "16\n",
      "17\n",
      "18\n",
      "19\n",
      "20\n",
      "21\n"
     ]
    }
   ],
   "source": [
    "for i in range(10, 22):\n",
    "    print(i)"
   ]
  },
  {
   "cell_type": "code",
   "execution_count": 7,
   "metadata": {},
   "outputs": [
    {
     "name": "stdout",
     "output_type": "stream",
     "text": [
      "24252627282930313233343536373839404142"
     ]
    }
   ],
   "source": [
    "#Ejemplo: Imprimir todos los numeros del 24 al 42, uno al lado de otro\n",
    "\n",
    "for i in range(24, 43):\n",
    "    print(i, end = \"\")"
   ]
  },
  {
   "cell_type": "markdown",
   "metadata": {},
   "source": [
    "Observe que el argumento end nos permite decidir lo que se imprimirá al final del print. "
   ]
  },
  {
   "cell_type": "code",
   "execution_count": 8,
   "metadata": {},
   "outputs": [
    {
     "name": "stdout",
     "output_type": "stream",
     "text": [
      "5elvis6elvis7elvis8elvis9elvis"
     ]
    }
   ],
   "source": [
    "for i in range(5, 10):\n",
    "    print(i, end = \"elvis\")"
   ]
  },
  {
   "cell_type": "code",
   "execution_count": 9,
   "metadata": {},
   "outputs": [
    {
     "name": "stdout",
     "output_type": "stream",
     "text": [
      "24252627282930313233343536373839404142\n"
     ]
    }
   ],
   "source": [
    "#Otra forma de hacer el otro ejemplo:\n",
    "\n",
    "y = \"\"\n",
    "for i in range(24, 43):\n",
    "    y = y + str(i)\n",
    "\n",
    "print(y)"
   ]
  },
  {
   "cell_type": "markdown",
   "metadata": {},
   "source": [
    "Observe lo que ocurre en el loop `for`. La variable `y`, que estaba definida antes del loop, va guardando su valor conforme se va iterando los valores de `i`. Esto permite que `y` sea cada vez mas larga, hasta el punto de contener todos los valores entre 24 y 42. Ambas formas son completamente válidas.\n",
    "\n",
    "\n",
    "Veamos un otro ejemplo en donde las listas nos ayudan a guardar muchos datos. Supongamos que somos meteorologos, y nuestra maquina registra temperaturas a traves del dia, y queremos calcular el promedio de las temperaturas del dia. Para ello podemos usar un bucle `for`. Recordemos que el promedio de un conjunto de datos es `suma_de_los_datos/cantidad_de_datos`"
   ]
  },
  {
   "cell_type": "code",
   "execution_count": 10,
   "metadata": {},
   "outputs": [
    {
     "name": "stdout",
     "output_type": "stream",
     "text": [
      "El promedio de temperaturas del dia es:  11.931740618653144\n"
     ]
    }
   ],
   "source": [
    "temperaturas = [21.279218897713463, 27.899798723580957, 16.93683084472986, 16.536721502141457, 0.6083333223137344, 12.083541435037926, 9.724468013876068, 24.567669331532507, 19.02104639965216, -7.8488095920052885, 9.951923467269717, 6.46303074317035, -6.863959496496735, 22.885985988413715, 14.413191372762533, 0.4621033513182726, 28.97437095424206, 5.883359631147311, 5.178477667897672, 3.2558422970603673, 23.2942617944067, 18.69915108888215, 12.403393915125555, 11.61208716261817, 23.23817295510681, 0.4796112178871792, -2.9450279404622193, -2.494324796098988, 29.172449824204023, 23.073665977210844, -0.034104123643576845, -6.167852681905936, 17.45532543130397, 17.646000157928007, -6.041472108237544, 0.3239199969130069, 19.79801297522477, 30.99890310358169, 11.519802080209754, 22.158085482397112, 28.402279510241648, 19.764083324644403, 23.885672191634846, 10.157540699375726, 28.567520769248695, 20.346200863537376, 16.06105219126745, 16.063189070006093, -1.9077662915411442, 16.329645173710187, -7.739994212380365, 15.267574717397691, 23.166448183875723, 8.427903165887798, 16.249764089548023, 10.949356703823286, 7.886708444104052, 17.793555083789517, 31.853157006921215, -7.910369577826463, 26.93034346375847, 8.911144427899231, 10.005314068037212, 16.894862915420127, 4.249881891701214, 26.37066006966336, -7.982292281197891, 26.26760099613047, 22.720909300100082, 13.384824911584559, 19.513995522062146, 25.544510676187944, 16.618203719959293, 26.46693142630636, -3.4236733511310713, 8.543988388756755, 19.981022088730704, 12.642199029806827, 19.87088593456155, -1.5341764139027103, 3.4044640884486577, 22.327805040836182, 15.05247132326451, 17.903786758317228, 23.138319593969065, 21.247826568204438, 4.5335259093215825, 8.767899309740638, 13.653280602680445, 5.078317211653955, 5.507421255319802, 3.7412165133036823, -4.856781080840856, -0.36701692744456116, -1.284300457541081, 7.105642218159208, 22.83956248509603, 24.08597057443913, 17.251856837912648, -3.427698715993792, 25.848231681383016, -5.153056393723416, 29.62912673555996, 12.708326149739008, 2.8083169717753065, 5.724462489923516, 27.041813912602777, -7.965744355919513, -5.396811517111468, 10.665500477405942, -1.1830717526443935, 8.827569278769502, -7.431547020845512, 29.133539510066846, 15.503868124391921, 18.35419321139353, 13.014677368509593, 23.054031214327342, 23.47590500238237, 9.162179044023365, 11.3004355631808, -4.841871876151014, -7.01633470274767, 30.75858346386722, 10.3907806449551, 23.263148284609407, 29.83258778624795, -5.269115821932859, 31.343608017137974, -1.6646925971534876, 12.015163199489793, 0.06361551421704137, 28.2439770937954, 1.9297564992481742, 3.7226913068467016, 4.879038103862527, -2.039161903228053, 16.858893461258685, -2.064676266713643, 7.242755497021552, 20.88723711790327, -5.210620207057552, 21.551114186527258, -7.531202444884382, 12.07461548399748, 13.135389759564118, 21.58065868560996, 16.358303314344834, 17.93010672601576, 23.825549199391183, 16.215399494909388, 31.77949191493088, -6.018205876820126, -3.576203844304444, 4.751378104606417, 31.735947631182455, 5.050438885447283, 17.27747560660054, 23.13911562322506, 19.94094515964352, -0.6432360244949398, 10.995621624010202, 29.758516046833854, 4.347661942255437, 27.025552842733866, 18.578405223274206, 28.529668191133126, 7.177329947896888, 20.334711150361056, -5.4005661858694936, 8.940921330758343, -2.7929648861484258, 3.6592254234546595, 23.232162982757032, 10.686344216471484, -6.557090546688034, 8.476679093137555, 18.2773277390633, 13.509710998561497, 20.113730740528204, 27.806153758432337, 23.76287708675834, 18.679427257683717, 5.485075142085607, 2.5768277652948, -2.108076870424258, 14.707222442015661, 1.2513841084131472, 10.535400033695852, 27.411206598854605, 9.984931768074963, -0.8307688890404541, 5.25543864969938, 3.9549154180427393, 8.259667302706049, -7.687713997701701, 28.790182401083264, 11.2712738783794, -2.001791335780807, 2.4297200731163016]\n",
    "\n",
    "suma_de_los_datos = 0  #Va a registrar la suma\n",
    "cantidad_de_datos = len(temperaturas) #Cantidad de elementos en la lista\n",
    "\n",
    "for temp in temperaturas:\n",
    "    suma_de_los_datos = suma_de_los_datos + temp\n",
    "    \n",
    "promedio = suma_de_los_datos/cantidad_de_datos\n",
    "print(\"El promedio de temperaturas del dia es: \", promedio)"
   ]
  },
  {
   "cell_type": "markdown",
   "metadata": {},
   "source": [
    "## Ejercicios"
   ]
  },
  {
   "cell_type": "code",
   "execution_count": null,
   "metadata": {},
   "outputs": [],
   "source": [
    "#Ejercicio 5.a\n",
    "\n",
    "#Pida al usuario que ingrese dos números, imprima todos los números enteros que estén entre esos dos números"
   ]
  },
  {
   "cell_type": "code",
   "execution_count": null,
   "metadata": {},
   "outputs": [],
   "source": [
    "#Ejercicio 5.b\n",
    "\n",
    "#Pida al usuario que ingrese una oración mediante el comando input()\n",
    "#Imprima la cantidad de vocales minúsculas que hay en la oración"
   ]
  },
  {
   "cell_type": "code",
   "execution_count": null,
   "metadata": {},
   "outputs": [],
   "source": [
    "#Ejercicio 5.c\n",
    "\n",
    "#Haga un programa que imprima todos los números múltiplos de 17 entre 1 y 1000."
   ]
  },
  {
   "cell_type": "code",
   "execution_count": null,
   "metadata": {},
   "outputs": [],
   "source": [
    "#Ejercicio 5.d\n",
    "\n",
    "#Haga un programa que imprima la suma de todos los múltiplos de 5 entre 1 y 10 000 inclusive"
   ]
  },
  {
   "cell_type": "code",
   "execution_count": null,
   "metadata": {},
   "outputs": [],
   "source": [
    "#Ejercicio 5.e\n",
    "\n",
    "#Copie las siguientes dos líneas de código en el IDLE:\n",
    "from random import randint\n",
    "l = [randint(0, randint(100, 1000)) for i in range(randint(100, 1000))]\n",
    "\n",
    "#1) Halle la suma de todos los valores de la lista\n",
    "#2) Halle el mayor elemento de la lista\n",
    "#3) Halle el menor elemento de la lista"
   ]
  },
  {
   "cell_type": "code",
   "execution_count": null,
   "metadata": {},
   "outputs": [],
   "source": [
    "#Ejercicio 5.f\n",
    "\n",
    "#Haga un programa donde el usuario ingrese un número e imprima todos los divisores de ese número."
   ]
  },
  {
   "cell_type": "markdown",
   "metadata": {},
   "source": [
    "# Bucle While\n",
    "\n",
    "Imaginemos esta situación: Somos los programadores del Banco Nacional de Fomento. Nos encargamos de verificar que cuando una persona ingresa a su cuenta de banco desde su celular, ingrese el numero de cuenta correcto. Los números de cuenta del BNF consisten de 10 dígitos. Pero puede pasar tranquilamente que el usuario se equivoca una vez e ingresa algo que no tiene 10 digitos. Podemos notificarle de su error con una estructura `if`:"
   ]
  },
  {
   "cell_type": "code",
   "execution_count": 11,
   "metadata": {},
   "outputs": [
    {
     "name": "stdout",
     "output_type": "stream",
     "text": [
      "Ingrese sus datos: hola\n",
      "Numero de usuario invalido! Ingrese los datos de nuevo:\n",
      "Ingrese sus datos: adios\n"
     ]
    }
   ],
   "source": [
    "x = input(\"Ingrese sus datos: \")\n",
    "\n",
    "if len(x) != 10:\n",
    "    print(\"Numero de usuario invalido! Ingrese los datos de nuevo:\")\n",
    "    x = input(\"Ingrese sus datos: \")"
   ]
  },
  {
   "cell_type": "markdown",
   "metadata": {},
   "source": [
    "Pero, ¿Y si se equivoca dos veces? Bueno, podemos agregar otro `if` mas abajo. ¿Y si se equivoca 10 veces?, bueno, ya empezamos a ver el problema, no es divertido hacer diez `if` todos iguales, además ni siquiera sabremos si son suficientes. \n",
    "\n",
    "Es por esto que se creó la estructura `while`. Podemos pensar que es igual a una cantidad indefinida de `if`'s. Tiene exactamente la misma estructura que el `if`, pero con otra palabra reservada:\n"
   ]
  },
  {
   "cell_type": "code",
   "execution_count": null,
   "metadata": {},
   "outputs": [],
   "source": [
    "'''\n",
    "while booleano:\n",
    "    ---------------------\n",
    "    |                   |\n",
    "    |                   |\n",
    "    |    Aqui van las   |\n",
    "    |   instrucciones   |\n",
    "    |                   |\n",
    "    |                   |\n",
    "    ---------------------\n",
    "(esto va fuera del bloque)\n",
    "\n",
    "'''"
   ]
  },
  {
   "cell_type": "markdown",
   "metadata": {},
   "source": [
    "Las partes de un bucle `while` son:\n",
    "\n",
    "1. La palabra `while`: Es la palabra reservada para decir a Python que inicia un bucle\n",
    "\n",
    "2. `booleano`: Es una variable de tipo `bool` que, al igual que en la estructura `if`, nos dice si se ejecutará el bloque de código que le sigue. \n",
    "\n",
    "3. Instrucciones: Es el bloque de código que se ejecuta si `booleano` tiene valor verdadero\n",
    "\n",
    "La diferencia entre la estructura `if` y el bucle `while` es que al final de ejecutarse el bloque **se vuelve al comienzo del bucle `while`**, y si `booleano` es verdadero, volvemos a realizar las instrucciones, repitiéndose el ciclo. \n",
    "\n",
    "Entonces, el problema del número de cuenta de BNF se soluciona así:"
   ]
  },
  {
   "cell_type": "code",
   "execution_count": 1,
   "metadata": {},
   "outputs": [
    {
     "name": "stdout",
     "output_type": "stream",
     "text": [
      "Ingrese sus datos:elvis\n",
      "Formato inválido!\n",
      "Ingrese de nuevo sus datos: batata\n",
      "Formato inválido!\n",
      "Ingrese de nuevo sus datos: banco nacional\n",
      "Formato inválido!\n",
      "Ingrese de nuevo sus datos: a\n",
      "Formato inválido!\n",
      "Ingrese de nuevo sus datos: b\n",
      "Formato inválido!\n",
      "Ingrese de nuevo sus datos: 10\n",
      "Formato inválido!\n",
      "Ingrese de nuevo sus datos: 1234567890\n"
     ]
    }
   ],
   "source": [
    "x = input(\"Ingrese sus datos:\")\n",
    "\n",
    "while len(x) != 10:\n",
    "    \n",
    "    print(\"Formato inválido!\")\n",
    "    x = input(\"Ingrese de nuevo sus datos: \")"
   ]
  },
  {
   "cell_type": "markdown",
   "metadata": {},
   "source": [
    "Por lo tanto las instrucciones de pedir más datos son realizadas hasta que `len(x) != 10` sea `False`, es decir, cuando `len(x)` sea igual a $10$. \n",
    "\n",
    "Debemos tener mucho cuidado con la estructura `while`. Debido a que siempre que `booleano` sea verdadero se ejecuta el bucle, debemos asegurarnos que vamos a salir de él. No debe pasar algo así:"
   ]
  },
  {
   "cell_type": "code",
   "execution_count": null,
   "metadata": {},
   "outputs": [],
   "source": [
    "while True:\n",
    "    print(\"Ayuda! No puedo salir\")"
   ]
  },
  {
   "cell_type": "markdown",
   "metadata": {},
   "source": [
    "No puede salir del bucle por sí solo. Deberemos apretar `CTRL + C` para terminarlo manualmente. \n",
    "\n",
    "Veamos otro ejemplo:"
   ]
  },
  {
   "cell_type": "code",
   "execution_count": 14,
   "metadata": {},
   "outputs": [
    {
     "name": "stdout",
     "output_type": "stream",
     "text": [
      "Ingrese un numero positivo: -1\n",
      "Usted ha ingresado un numero negativo!\n",
      "Ingrese un numero POSITIVO: -2\n",
      "Usted ha ingresado un numero negativo!\n",
      "Ingrese un numero POSITIVO: 3\n"
     ]
    }
   ],
   "source": [
    "x = int(input(\"Ingrese un numero positivo: \"))\n",
    "\n",
    "while x < 0:\n",
    "    print(\"Usted ha ingresado un numero negativo!\")\n",
    "    x = int(input(\"Ingrese un numero POSITIVO: \"))"
   ]
  },
  {
   "cell_type": "markdown",
   "metadata": {},
   "source": [
    "### Ejercicios"
   ]
  },
  {
   "cell_type": "code",
   "execution_count": null,
   "metadata": {},
   "outputs": [],
   "source": [
    "#Ejercicio 5.g\n",
    "'''\n",
    "Somos los cajeros de un supermercado, y debemos registrar la compra de un cliente. Para eso se ha comprado x cantidad de\n",
    "unidades de un producto, que debe ser ingresado por el cajero. Nuestro programa debe pedir al usuario el valor x hasta \n",
    "que sea un entero positivo. \n",
    "'''"
   ]
  },
  {
   "cell_type": "code",
   "execution_count": null,
   "metadata": {},
   "outputs": [],
   "source": [
    "#Ejercicio 5.h\n",
    "\n",
    "'''\n",
    "Supongamos que somos profesores un curso de danza paraguaya en pareja y debemos guardar en el sistema la cantidad de alumnos \n",
    "inscriptos. Para ello nuestro programa debe pedir al usuario un entero positivo \"n\" que sea par, para poder hacer las parejas. \n",
    "'''"
   ]
  },
  {
   "cell_type": "code",
   "execution_count": null,
   "metadata": {},
   "outputs": [],
   "source": [
    "#Ejercicio 5.i\n",
    "\n",
    "#La secuencia de Fibbonacci es una secuencia definida de la siguiente manera:\n",
    "#1, 1, 2, 3, 5, 8, 13, 21, 34, 55, 89 ...\n",
    "'''\n",
    "Es una secuencia con una cantidad infinita de elementos. Escriba un programa que pida al usuario un entero positivo n, \n",
    "e imprima todos los elementos de la secuencia de Fibbonacci que sean menores a n.\n",
    "'''"
   ]
  },
  {
   "cell_type": "markdown",
   "metadata": {},
   "source": [
    "### La sentencia `break`\n",
    "\n",
    "A veces necesitamos salir el bucle, tal vez porque ya realizamos todo lo que queríamos hacer adentro. Supongamos por ejemplo que somos bibliotecarios, y recibimos un cargamento de libros que debemos registrar en la biblioteca. Tenemos un programa que nos permite agregar nombres de libros hasta que ingresemos un `0`. Luego, viene una persona y nos pide un libro cuyo nombre empieza con `E`. Nuestro programa imprime el primer libro que empiece con `E`:"
   ]
  },
  {
   "cell_type": "code",
   "execution_count": null,
   "metadata": {},
   "outputs": [],
   "source": [
    "x = input(\"Ingrese el nombre de un libro (0 para terminar): \")\n",
    "\n",
    "libros = [] #Lista guardando los libros.\n",
    "\n",
    "#Ingresamos todos los libros\n",
    "while x != \"0\":\n",
    "    libros = libros + [x]\n",
    "    x = input(\"Ingrese el nombre de un libro (0 para terminar): \")\n",
    "    \n",
    "#Buscamos un libro que empieza con 'E'\n",
    "for lib in libros:\n",
    "    if lib[0] == 'e' or lib[0] == 'E':\n",
    "        print(\"El libro \", lib, \"empieza con la letra E!\")\n",
    "        break #Salimos del bucle. Que pasa si no ponemos break?"
   ]
  },
  {
   "cell_type": "markdown",
   "metadata": {},
   "source": [
    "Vemos que en la lista de libros, hay dos que empiezan con la letra E, pero solo uno es mostrado. Esto es porque cuando se imprime el primer libro, la sentencia `break` rompe el bucle for. \n",
    "\n",
    "La sentencia `break` rompe el último bucle en el cual se encuentra.\n",
    "Veamos otro ejemplo:"
   ]
  },
  {
   "cell_type": "code",
   "execution_count": null,
   "metadata": {},
   "outputs": [],
   "source": [
    "for i in range(10):\n",
    "    for j in range(10):\n",
    "        print(j, end = \" \")\n",
    "        if i == 7:\n",
    "            break\n",
    "    print(\"\")"
   ]
  },
  {
   "cell_type": "markdown",
   "metadata": {},
   "source": [
    "### Ejercicios\n",
    "\n"
   ]
  },
  {
   "cell_type": "markdown",
   "metadata": {},
   "source": [
    ">1. Cree una variable string llamada \"contrasena\" asignándole el valor de una palabra. Luego pida al usuario que ingrese un string mediante el comando `input`. Mientras que la palabra ingresada por le usuario sea distinta a la variable `contrasena`, imprimir el mensaje `Contraseña incorrecta` y hacer que el usuario vuelva a ingresar una palabra. Si la palabra ingresada es igual a la contraseña, imprimir el mensaje `Contraseña correcta`.\n",
    ">2. Pida al usuario que ingrese cualquier oración, hasta que la oración contenga un número, en ese caso imprima el mensaje: \"El programa ha terminado\". \n",
    ">3. Hacer un programa que pida 10 números al usuario, y muestre la suma. Sin embargo, si el usuario ingresa algo inválido (por ejemplo, letras) entonces el programa no debe pedir más números e imprimir la suma hasta ese punto de los números anteriores\n",
    ">4. Escriba un programa que reciba un entero positivo como entrada e imprima si el número es primo o no."
   ]
  }
 ],
 "metadata": {
  "kernelspec": {
   "display_name": "Python 3",
   "language": "python",
   "name": "python3"
  },
  "language_info": {
   "codemirror_mode": {
    "name": "ipython",
    "version": 3
   },
   "file_extension": ".py",
   "mimetype": "text/x-python",
   "name": "python",
   "nbconvert_exporter": "python",
   "pygments_lexer": "ipython3",
   "version": "3.8.5"
  }
 },
 "nbformat": 4,
 "nbformat_minor": 4
}
