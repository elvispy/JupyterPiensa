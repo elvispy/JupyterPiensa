{
 "cells": [
  {
   "attachments": {
    "pythidle.png": {
     "image/png": "[encoded data removed]"
    },
    "pythscript.png": {
     "image/png": "[encoded data removed]"
    }
   },
   "cell_type": "markdown",
   "metadata": {},
   "source": [
    "## Familiarizándonos con Python.\n",
    "\n",
    "El paquete estándar que instalamos de Python posee dos funcionalidades esenciales: \n",
    "\n",
    "El script\n",
    "\n",
    "![pythscript.png](attachment:pythscript.png)\n",
    "\n",
    "y el IDLE.\n",
    "\n",
    "![pythidle.png](attachment:pythidle.png)\n",
    "\n",
    "### El Python IDLE\n",
    "\n",
    "Empezaremos viendo el IDLE. Abrimos la aplicación *IDLE Python 3.8* y nos aparecerá la misma ventana que vieron arriba. El IDLE es como una calculadora en vivo que puede realizar operaciones y devuelve el resultado al instante. Por ejemplo, si pongo:"
   ]
  },
  {
   "cell_type": "code",
   "execution_count": 1,
   "metadata": {},
   "outputs": [
    {
     "data": {
      "text/plain": [
       "20"
      ]
     },
     "execution_count": 1,
     "metadata": {},
     "output_type": "execute_result"
    }
   ],
   "source": [
    "50 - 5*6"
   ]
  },
  {
   "cell_type": "markdown",
   "metadata": {},
   "source": [
    "Apretando enter nos sale el resultado y nos aparecen tres signos **<font color = \"red\"> >>> </font>** de color granate. Esto indica que nuestro cálculo ha sido procesado automáticamente. Veamos otro ejemplo:"
   ]
  },
  {
   "cell_type": "code",
   "execution_count": 2,
   "metadata": {},
   "outputs": [
    {
     "data": {
      "text/plain": [
       "5.0"
      ]
     },
     "execution_count": 2,
     "metadata": {},
     "output_type": "execute_result"
    }
   ],
   "source": [
    "(50 - 5*6)/4"
   ]
  },
  {
   "cell_type": "markdown",
   "metadata": {},
   "source": [
    "El signo igual (=) se usa para asignar un valor a una variable. Las asignaciones de variables no muestran ningún resultado al usuario."
   ]
  },
  {
   "cell_type": "code",
   "execution_count": 3,
   "metadata": {
    "scrolled": true
   },
   "outputs": [
    {
     "data": {
      "text/plain": [
       "100"
      ]
     },
     "execution_count": 3,
     "metadata": {},
     "output_type": "execute_result"
    }
   ],
   "source": [
    "alto = 20\n",
    "ancho = 5\n",
    "alto * ancho"
   ]
  },
  {
   "cell_type": "markdown",
   "metadata": {},
   "source": [
    "Observemos varias cosas importantes:\n",
    "\n",
    "1. Yo elijo el nombre de las variables\n",
    "2. Python memoriza el valor de las variables que se definen anteriormente, hasta que cerremos el IDLE de nuevo.\n",
    "3. Si preguntamos por una variable que no ha sido asignada aún, obtendremos un error\n",
    "\n",
    "Veamos este último punto en acción. Cuando realizamos algo que Python no entiende, nos informará de un error:"
   ]
  },
  {
   "cell_type": "code",
   "execution_count": 4,
   "metadata": {},
   "outputs": [
    {
     "ename": "NameError",
     "evalue": "name 'n' is not defined",
     "output_type": "error",
     "traceback": [
      "\u001b[1;31m---------------------------------------------------------------------------\u001b[0m",
      "\u001b[1;31mNameError\u001b[0m                                 Traceback (most recent call last)",
      "\u001b[1;32m<ipython-input-4-ab0680a89434>\u001b[0m in \u001b[0;36m<module>\u001b[1;34m\u001b[0m\n\u001b[1;32m----> 1\u001b[1;33m \u001b[0mn\u001b[0m\u001b[1;33m\u001b[0m\u001b[1;33m\u001b[0m\u001b[0m\n\u001b[0m",
      "\u001b[1;31mNameError\u001b[0m: name 'n' is not defined"
     ]
    }
   ],
   "source": [
    "n"
   ]
  },
  {
   "cell_type": "markdown",
   "metadata": {},
   "source": [
    "Hay varios componentes presentes en un error, pero sin dudas a veces es mucho más simple entender el error que corregirlo. __Sólo la práctica nos ayudará a evitar los errores y a corregirlos más rapidamente__. \n",
    "\n",
    "Cuando recibamos un error, lo primero que debemos hacer es, paradójicamente, observar la última línea:\n",
    " > `NameError: name 'n' is not defined`\n",
    "\n",
    "Lastimosamente al día de hoy la inmensa mayoría de los errores de Python están en inglés. Es mejor que nos vayamos acostumbrando a eso. Este error nos dice lo que nos esperábamos: La variable `n` no se ha definido antes, y por lo tanto no tiene un valor asignado, y Python no entiende que hacer con esa variable.  En general, con mirar la última línea del error ya debería bastar. Veamos otro error común:"
   ]
  },
  {
   "cell_type": "code",
   "execution_count": 5,
   "metadata": {},
   "outputs": [
    {
     "ename": "ZeroDivisionError",
     "evalue": "division by zero",
     "output_type": "error",
     "traceback": [
      "\u001b[1;31m---------------------------------------------------------------------------\u001b[0m",
      "\u001b[1;31mZeroDivisionError\u001b[0m                         Traceback (most recent call last)",
      "\u001b[1;32m<ipython-input-5-b0a2759ab131>\u001b[0m in \u001b[0;36m<module>\u001b[1;34m\u001b[0m\n\u001b[0;32m      1\u001b[0m \u001b[0mvar\u001b[0m \u001b[1;33m=\u001b[0m \u001b[1;36m2\u001b[0m\u001b[1;33m\u001b[0m\u001b[1;33m\u001b[0m\u001b[0m\n\u001b[0;32m      2\u001b[0m \u001b[0mx\u001b[0m \u001b[1;33m=\u001b[0m \u001b[1;36m0\u001b[0m\u001b[1;33m\u001b[0m\u001b[1;33m\u001b[0m\u001b[0m\n\u001b[1;32m----> 3\u001b[1;33m \u001b[0my\u001b[0m \u001b[1;33m=\u001b[0m \u001b[0mvar\u001b[0m \u001b[1;33m/\u001b[0m \u001b[0mx\u001b[0m\u001b[1;33m\u001b[0m\u001b[1;33m\u001b[0m\u001b[0m\n\u001b[0m",
      "\u001b[1;31mZeroDivisionError\u001b[0m: division by zero"
     ]
    }
   ],
   "source": [
    "var = 2\n",
    "x = 0\n",
    "y = var / x"
   ]
  },
  {
   "cell_type": "markdown",
   "metadata": {},
   "source": [
    "Asignamos los valores $2$ y $0$ a las variables $var$ y $x$. Queremos asignar a la variable $y$ el valor de la división entre $var$ y $x$, pero como $x$ es cero, entonces $\\frac{var}{x}$ es $\\frac{2}{0}$. Sin embargo, no está permitido dividir por cero (No tiene sentido!), y eso es lo que nos dice la última línea, justamente. "
   ]
  },
  {
   "cell_type": "markdown",
   "metadata": {},
   "source": [
    "Parece broma, pero *la forma más natural de conocer todos los errores es cometiéndolos uno mismo*. Es parte del proceso de aprender."
   ]
  },
  {
   "cell_type": "markdown",
   "metadata": {},
   "source": [
    "### El Script de Python\n",
    "\n",
    "Todo lo que hemos hecho hasta ahora ha sido usando el *Python IDLE* (alias \"La calculadora\"). Ahora veamos el otro interfaz, que es el *Script*. Accedemos a un script apretando `Ctrl + N` cuando estemos en el *Python IDLE*. Nos abrirá un archivo completamente nuevo y vacío. El *Script*, a diferencia del *IDLE*, se guarda en el disco duro de nuestra computadora y podemos accederlo y editarlo inclusive luego de cerrar Python. Sin embargo, no es interactivo, si queremos que python analice o lea lo que escribimos en el Script, debemos apretar `F5`. Igual que un archivo Excel tiene la extensión *.xlsx*, las imágenes son generalmente *.jpg* o *.png*, los Scripts de Python tienen la extensión *.py*. Éstos no son más que un conjunto de instrucciones que Python está listo para leer cuando apretemos `F5`.\n",
    "\n",
    "Otra funcionalidad que es interesante en los scripts son los comentarios. Estas son lineas de codigo que no son leídas por Python, son completamente ignoradas. Están hechas para que lo lean los humanos y el código sea más legible. Cualquier línea que empiece con un numeral `#` es un comentario, y podemos escribir lo que queramos:"
   ]
  },
  {
   "cell_type": "code",
   "execution_count": null,
   "metadata": {},
   "outputs": [],
   "source": [
    "#Esto es un comentario, no necesita tener sentido, será ignorado por Python. "
   ]
  },
  {
   "cell_type": "markdown",
   "metadata": {},
   "source": [
    "Si queremos que el comentario ocupe más de una línea, debemos encerrar el texto por triples comillas simples (''')"
   ]
  },
  {
   "cell_type": "code",
   "execution_count": null,
   "metadata": {},
   "outputs": [],
   "source": [
    "''' Esto es un \n",
    "comentario\n",
    "\n",
    "multilinea. Puede ser tan largo como yo quisiera.\n",
    "\n",
    "'''"
   ]
  },
  {
   "cell_type": "markdown",
   "metadata": {},
   "source": [
    "Los resultados que obtengamos en un script se mostrarán en el IDLE, siempre. La siguiente tabla encapsula las diferencias entre ambos:"
   ]
  },
  {
   "cell_type": "markdown",
   "metadata": {},
   "source": [
    "| Script | IDLE |\n",
    "| ----------- | ----------- |\n",
    "| Guarda las variables  | Olvida las variables |\n",
    "|Instrucciones por bloques | Instrucciones por linea|\n",
    "| Hay que apretar `F5` | Hay que apretar `Enter` |\n",
    "\n",
    "\n",
    ">Ejercicios. \n",
    "> 1. Encuentre el error en las siguientes líneas de código:"
   ]
  },
  {
   "cell_type": "code",
   "execution_count": null,
   "metadata": {},
   "outputs": [],
   "source": [
    "#Ejercicio 1.a\n",
    "\n",
    "y = 5\n",
    "x = 10 - 1\n",
    "7 = y\n",
    "x*x - 2*y"
   ]
  },
  {
   "cell_type": "code",
   "execution_count": null,
   "metadata": {},
   "outputs": [],
   "source": [
    "#Ejercicio 1.b\n",
    "\n",
    "var1 = 1.5\n",
    "var2 = 4\n",
    "var1 = var2\n",
    "var2 = var3"
   ]
  },
  {
   "cell_type": "code",
   "execution_count": null,
   "metadata": {},
   "outputs": [],
   "source": [
    "#Ejercicio 1.c\n",
    "\n",
    "#Vamos a sumar 1 a la\n",
    "variable indicada\n",
    "\n",
    "x = 0\n",
    "x = x + 1"
   ]
  },
  {
   "cell_type": "code",
   "execution_count": null,
   "metadata": {},
   "outputs": [],
   "source": [
    "#Ejercicio 1.d\n",
    "\n",
    "x = 7\n",
    "x2 = x\n",
    "y = 9\n",
    "y2 = y\n",
    "x = x * x2\n",
    "y = y * y2\n",
    "\n",
    "'''En este ejemplo \n",
    "elevamos al cuadrado\n",
    "dos variables''\n",
    "\n"
   ]
  },
  {
   "cell_type": "code",
   "execution_count": null,
   "metadata": {},
   "outputs": [],
   "source": [
    "#Ejercicio 1.e\n",
    "\n",
    "#Indica las lineas que daran error\n",
    "isaias=27\n",
    "fabio = isaias/3\n",
    "luz = o\n",
    "elias = 3\n",
    "ana=isaias/fabio - elias\n",
    "josias = elias/ana + fabio\n",
    "emidgio = josias + ana  \n",
    "ariel = 0"
   ]
  },
  {
   "cell_type": "code",
   "execution_count": null,
   "metadata": {},
   "outputs": [],
   "source": [
    "#Ejercicio 1.f\n",
    "x = -5\n",
    "x = 0\n",
    "y_10 = 10\n",
    "z = 42#63\n",
    "a = -1*-2\n",
    "b = 2a"
   ]
  }
 ],
 "metadata": {
  "kernelspec": {
   "display_name": "Python 3",
   "language": "python",
   "name": "python3"
  },
  "language_info": {
   "codemirror_mode": {
    "name": "ipython",
    "version": 3
   },
   "file_extension": ".py",
   "mimetype": "text/x-python",
   "name": "python",
   "nbconvert_exporter": "python",
   "pygments_lexer": "ipython3",
   "version": "3.8.5"
  }
 },
 "nbformat": 4,
 "nbformat_minor": 4
}
