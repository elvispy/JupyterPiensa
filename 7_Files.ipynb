{
 "cells": [
  {
   "cell_type": "markdown",
   "metadata": {},
   "source": [
    "# Procesando datos externos\n",
    "\n",
    "Python puede manejar datos además de aquellos dentro del Script. En problemas de la vida real, de hecho, se suelen manejar una cantidad enorme de datos. Por ejemplo, si somos programadores de una empresa multinacional, debemos estar preparados para poder procesar todos los datos de login y contraseña de todos los usuarios en vivo. \n",
    "\n",
    "Un primer método es el procesar archivos de texto. Se hace con la siguiente sintaxis:"
   ]
  },
  {
   "cell_type": "code",
   "execution_count": null,
   "metadata": {},
   "outputs": [],
   "source": [
    "'''\n",
    "with open('nombre_archivo', 'ar(+)w') as variable:\n",
    "    texto = variable.read()\n",
    "Entonces va a guardar un string con todo el texto en el. Un enter se\n",
    "guarda como '\\n'.\n",
    "'''"
   ]
  },
  {
   "cell_type": "markdown",
   "metadata": {},
   "source": [
    "Analicemos todos los elementos de ese bloque:\n",
    "\n",
    "1. `with`: Es la palabra reservada que le avisa a Python que estaremos abriendo un archivo. \n",
    "\n",
    "2. `open('nombre_archivo', ar(+)w') as variable`: Es el objeto que representa el archivo que queremos abrir. El string `nombre_archivo` debe dar la ruta exacta del archivo que queremos escribir. Si el archivo y el script poseen la misma ruta, entonces solo debemos poner el nombre del archivo (La extensión del archivo es parte del nombre!). El string `'ar(+)w'` le dice a Python que haremos con el archivo:\n",
    "    1. `r`: Solo para leer el contenido. Si no hay archivo, lanza error.\n",
    "    2. `r+`: Puede leer y sobreescribir, sin borrar lo que ya habia antes. Si no hay archivo, lanza error.\n",
    "    3. `a`: Va a escribir todo al final, sin borrar lo que habia. Si no hay archivo, lo crea.\n",
    "    4. `w`: Va a sobreescribir todo lo que se agregue. Si no existe el archivo, se crea.\n",
    "    \n",
    "Finalmente, `variable` es un objeto que representa al archivo. Podemos llamarlo como querramos.\n",
    "3. `variable.read()`: Nos permite leer todo el contenido del archivo, devuelve un string siempre. Observe que esta línea de código debe estar indentada, es el único lugar donde `variable` está definida.\n",
    "\n",
    "Entonces, al final del código, `texto` es una variable de tipo string"
   ]
  },
  {
   "cell_type": "markdown",
   "metadata": {},
   "source": [
    "En mi computadora tengo un archivo que se llama `cuento.txt`, que se encuentra en la carpeta `Archivos`, en el mismo directorio que mi script. Para abrirlo y leer su contenido entonces escribo:"
   ]
  },
  {
   "cell_type": "code",
   "execution_count": 7,
   "metadata": {},
   "outputs": [
    {
     "name": "stdout",
     "output_type": "stream",
     "text": [
      "Sapurũ, kuñataĩ porã peteĩ, oikóvante oikoha rupi omoherakuã ndaje omendáne haguã kuimba’e ogueropojáiva chupe jopói iporãvévare.\n",
      "\n",
      "Ñanduguasu apysápe oguahẽ upéva. Ymaite guivéma niko omyendy ikorasõme ra’e hese imborayhu. Ñanduguasu oñemoĩ omboguyguy ka’aguy ryepy, jahechápa ndojuhúi peteĩ mba’e iporã ambuéva ha ikatúneva Sapurũ ohecharamo. Upéicha oiko kuévo hesaho sapy’a peteĩ ñandu renimbo rehe, ysapýpe iñakỹ ha ojajaipáva hína.\n",
      "\n",
      "Ombopy’aroryete chupe, oñemboja mbegue katuete ha py’a tytýipe ojapyhývo, ikusugue ipópe. Ñembyasy asýpe ojere hógape omombe’u ipýpe ipo’a’ỹ. Isy he’i chupe:\n",
      "\n",
      "-Ani rejepy’apy che memby. Heta upeichagua oĩ ka’aguýre, jaha jaheka ndéve.\n",
      "\n",
      "Oike ka’aguýre hikuái ha márõ ndojuhúi mba’eve.\n",
      "\n",
      "Upémarõ oporandu isy Ñanduguasúpe mba’eichaguápa pe mba’e ohecha va’ekue, ha ohendupa porã rire, oñemoĩ ohekýi iñakãrague morotĩrotĩmava ohóvo ha oipyaha ipype peteĩ ñandu renimbo joguahaite.\n",
      "\n",
      "Ñanduguasu ome’ẽ Sapurũme isy rembiapokue ha ombojoaju hikuái hekove kuéra. Upe guive ko tembiapokue porãite, sy mborayhúgui heñói va’ekue, héra ñanduti.\n"
     ]
    }
   ],
   "source": [
    "with open('Archivos\\\\cuento.txt', 'r', encoding = 'utf8') as cuento:\n",
    "    datos = cuento.read()\n",
    "\n",
    "print(datos)"
   ]
  },
  {
   "cell_type": "markdown",
   "metadata": {},
   "source": [
    "Observe que necesité agregar `encoding = 'utf8` para poder leer el archivo, puesto que el guaraní tiene caracteres especiales. El punto importante es que pudimos leer todo el contenido de un archivo de texto. Observe lo que pasa si queremos abrir un archivo que no existe en el modo `r`:"
   ]
  },
  {
   "cell_type": "code",
   "execution_count": 8,
   "metadata": {},
   "outputs": [
    {
     "ename": "FileNotFoundError",
     "evalue": "[Errno 2] No such file or directory: 'noexiste.txt'",
     "output_type": "error",
     "traceback": [
      "\u001b[1;31m---------------------------------------------------------------------------\u001b[0m",
      "\u001b[1;31mFileNotFoundError\u001b[0m                         Traceback (most recent call last)",
      "\u001b[1;32m<ipython-input-8-e59db6adcb23>\u001b[0m in \u001b[0;36m<module>\u001b[1;34m\u001b[0m\n\u001b[1;32m----> 1\u001b[1;33m \u001b[1;32mwith\u001b[0m \u001b[0mopen\u001b[0m\u001b[1;33m(\u001b[0m\u001b[1;34m'noexiste.txt'\u001b[0m\u001b[1;33m,\u001b[0m \u001b[1;34m'r'\u001b[0m\u001b[1;33m)\u001b[0m \u001b[1;32mas\u001b[0m \u001b[0mfile\u001b[0m\u001b[1;33m:\u001b[0m\u001b[1;33m\u001b[0m\u001b[1;33m\u001b[0m\u001b[0m\n\u001b[0m\u001b[0;32m      2\u001b[0m     \u001b[0mprint\u001b[0m\u001b[1;33m(\u001b[0m\u001b[0mfile\u001b[0m\u001b[1;33m.\u001b[0m\u001b[0mread\u001b[0m\u001b[1;33m(\u001b[0m\u001b[1;33m)\u001b[0m\u001b[1;33m)\u001b[0m\u001b[1;33m\u001b[0m\u001b[1;33m\u001b[0m\u001b[0m\n",
      "\u001b[1;31mFileNotFoundError\u001b[0m: [Errno 2] No such file or directory: 'noexiste.txt'"
     ]
    }
   ],
   "source": [
    "with open('noexiste.txt', 'r') as file:\n",
    "    print(file.read())"
   ]
  },
  {
   "cell_type": "markdown",
   "metadata": {},
   "source": [
    "`FileNotFOundError` es síntoma de que se quiere abrir un archivo que no ha sido creado aún. Lo mismo sucede en el modo `r+`. Los modos `a` y `w` crean el archivo en caso de que no exista:"
   ]
  },
  {
   "cell_type": "code",
   "execution_count": 9,
   "metadata": {},
   "outputs": [
    {
     "ename": "UnsupportedOperation",
     "evalue": "not readable",
     "output_type": "error",
     "traceback": [
      "\u001b[1;31m---------------------------------------------------------------------------\u001b[0m",
      "\u001b[1;31mUnsupportedOperation\u001b[0m                      Traceback (most recent call last)",
      "\u001b[1;32m<ipython-input-9-4856d50b8bb6>\u001b[0m in \u001b[0;36m<module>\u001b[1;34m\u001b[0m\n\u001b[0;32m      1\u001b[0m \u001b[1;32mwith\u001b[0m \u001b[0mopen\u001b[0m\u001b[1;33m(\u001b[0m\u001b[1;34m'noexiste.txt'\u001b[0m\u001b[1;33m,\u001b[0m \u001b[1;34m'w'\u001b[0m\u001b[1;33m)\u001b[0m \u001b[1;32mas\u001b[0m \u001b[0march\u001b[0m\u001b[1;33m:\u001b[0m\u001b[1;33m\u001b[0m\u001b[1;33m\u001b[0m\u001b[0m\n\u001b[1;32m----> 2\u001b[1;33m     \u001b[0mtexto\u001b[0m \u001b[1;33m=\u001b[0m \u001b[0march\u001b[0m\u001b[1;33m.\u001b[0m\u001b[0mread\u001b[0m\u001b[1;33m(\u001b[0m\u001b[1;33m)\u001b[0m\u001b[1;33m\u001b[0m\u001b[1;33m\u001b[0m\u001b[0m\n\u001b[0m\u001b[0;32m      3\u001b[0m \u001b[0mprint\u001b[0m\u001b[1;33m(\u001b[0m\u001b[0mtexto\u001b[0m\u001b[1;33m)\u001b[0m\u001b[1;33m\u001b[0m\u001b[1;33m\u001b[0m\u001b[0m\n",
      "\u001b[1;31mUnsupportedOperation\u001b[0m: not readable"
     ]
    }
   ],
   "source": [
    "with open('noexiste.txt', 'w') as arch:\n",
    "    texto = arch.read()\n",
    "print(texto)"
   ]
  },
  {
   "cell_type": "markdown",
   "metadata": {},
   "source": [
    "Sin embargo, los modos `a` y `w` no permiten leer el archivo, solo agregar/sobreescribir datos. Es por eso que nos lanza el error `not readable` (no leíble). Para estos dos tipos, se usa la sintaxis `arch.write(string)`, para escribir un string en arch. "
   ]
  },
  {
   "cell_type": "code",
   "execution_count": 10,
   "metadata": {},
   "outputs": [],
   "source": [
    "with open('data3.txt', 'a') as archivo:\n",
    "    archivo.write(\"Hola mundo\")\n"
   ]
  },
  {
   "cell_type": "markdown",
   "metadata": {},
   "source": [
    "Ahora preguntemos por el contenido de data3.txt:"
   ]
  },
  {
   "cell_type": "code",
   "execution_count": 11,
   "metadata": {},
   "outputs": [
    {
     "name": "stdout",
     "output_type": "stream",
     "text": [
      "Esta es una pruebaHola mundo\n"
     ]
    }
   ],
   "source": [
    "with open('data3.txt', 'r') as archivo:\n",
    "    print(archivo.read())"
   ]
  },
  {
   "cell_type": "markdown",
   "metadata": {},
   "source": [
    "Se agregó `Hola Mundo`. En otra sección veremos la diferencia entre `r+`, `a` y `w`. Primero notemos que si una línea de código no está indentada, entonces la variable `archivo` ya no está definida:"
   ]
  },
  {
   "cell_type": "code",
   "execution_count": 12,
   "metadata": {},
   "outputs": [
    {
     "ename": "ValueError",
     "evalue": "I/O operation on closed file.",
     "output_type": "error",
     "traceback": [
      "\u001b[1;31m---------------------------------------------------------------------------\u001b[0m",
      "\u001b[1;31mValueError\u001b[0m                                Traceback (most recent call last)",
      "\u001b[1;32m<ipython-input-12-75f2647867ad>\u001b[0m in \u001b[0;36m<module>\u001b[1;34m\u001b[0m\n\u001b[0;32m      2\u001b[0m     \u001b[0mdatos\u001b[0m \u001b[1;33m=\u001b[0m \u001b[0marchivo\u001b[0m\u001b[1;33m.\u001b[0m\u001b[0mread\u001b[0m\u001b[1;33m(\u001b[0m\u001b[1;33m)\u001b[0m\u001b[1;33m\u001b[0m\u001b[1;33m\u001b[0m\u001b[0m\n\u001b[0;32m      3\u001b[0m \u001b[1;33m\u001b[0m\u001b[0m\n\u001b[1;32m----> 4\u001b[1;33m \u001b[0mdatos2\u001b[0m \u001b[1;33m=\u001b[0m \u001b[0marchivo\u001b[0m\u001b[1;33m.\u001b[0m\u001b[0mread\u001b[0m\u001b[1;33m(\u001b[0m\u001b[1;33m)\u001b[0m\u001b[1;33m\u001b[0m\u001b[1;33m\u001b[0m\u001b[0m\n\u001b[0m",
      "\u001b[1;31mValueError\u001b[0m: I/O operation on closed file."
     ]
    }
   ],
   "source": [
    "with open('data3.txt', 'r') as archivo:\n",
    "    datos = archivo.read()\n",
    "    \n",
    "datos2 = archivo.read()"
   ]
  },
  {
   "cell_type": "markdown",
   "metadata": {},
   "source": [
    "Nos dice que archivo ya se ha cerrado. Sin emabargo, la variable `datos` sigue siendo accesible:"
   ]
  },
  {
   "cell_type": "code",
   "execution_count": 13,
   "metadata": {},
   "outputs": [
    {
     "name": "stdout",
     "output_type": "stream",
     "text": [
      "Esta es una pruebaHola mundo\n"
     ]
    }
   ],
   "source": [
    "print(datos)"
   ]
  },
  {
   "cell_type": "markdown",
   "metadata": {},
   "source": [
    "Esto es debido a que es muy costoso para Python mantener abiertos archivos grandes por mucho tiempo (Y peligroso!). Por lo tanto el objeto de archivo de texto es accesible únicamente dentro de la estructura `with`. "
   ]
  },
  {
   "cell_type": "markdown",
   "metadata": {},
   "source": [
    "### Ejercicios."
   ]
  },
  {
   "cell_type": "markdown",
   "metadata": {},
   "source": [
    "1. En el cuento corto cuento.txt, cuente la cantidad de:\n",
    "    1. Vocales (Con o sin acento)\n",
    "    2. Vocales acentuadas (Nasal o diacrítico)\n",
    "    3. Vocales con acento Nasal\n",
    "2. Haga un programa que haga al usuario ingresar una serie de numeros hasta que se ingrese el número $0$. Guarde en un archivo llamado resultado.txt la suma de todos los números ingresados."
   ]
  },
  {
   "cell_type": "markdown",
   "metadata": {},
   "source": [
    "## Las funciones `tell()` y `seek()`.\n",
    "\n",
    "Veamos un ejemplo, con el mismo archivo `data3.txt`."
   ]
  },
  {
   "cell_type": "code",
   "execution_count": 15,
   "metadata": {},
   "outputs": [
    {
     "name": "stdout",
     "output_type": "stream",
     "text": [
      "Imprimireos el contenido del archivo:\n",
      "La fecha de hoy es \n",
      "4 de Agosto de 2020\n",
      "-------------\n",
      "Imprimiremos el contenido del archivo por segunda vez:\n",
      "\n",
      "-------------\n"
     ]
    }
   ],
   "source": [
    "with open('data3.txt', 'r') as archivo:\n",
    "    print(\"Imprimireos el contenido del archivo:\")\n",
    "    print(archivo.read())\n",
    "    print(\"-------------\")\n",
    "    print(\"Imprimiremos el contenido del archivo por segunda vez:\")\n",
    "    print(archivo.read())\n",
    "    print(\"-------------\")"
   ]
  },
  {
   "cell_type": "markdown",
   "metadata": {},
   "source": [
    "¿Que pasó? ¿Acaso no tenía que imprimir el contenido dos veces?. Lo que sucede es que Python, al abrir un archivo, crea lo que se llam un **puntero**. Este puntero es un número que le indica a Python dónde se encuentra dentro del archivo, y funciona muy parecido al indexado de una lista o string.\n",
    "\n",
    "El puntero inicia en `0`, lo que indica que Python se encuentra al comienzo del archivo, y puede tener cualquier valor positivo. Entonces, lo que la función `read` realmente hace es leer todos los caracteres **desde el puntero hasta el final**, coloca el puntero al final del último caracter que se leyó. \n",
    "\n",
    "Cuando escribimos `archivo.read()` por primera vez, Python tiene el puntero en `0` y lee todos los caracteres hasta el final, que es también donde coloca el puntero. Cuando escribimos `archivo.read()` por segunda vez, no hay caracteres entre el puntero y el final del archivo, entonces no se imprime nada.\n",
    "\n",
    "Existen dos formas básicas de manipular un puntero de un archivo en Python:\n",
    "\n",
    "1. `archivo.tell()`: Devolverá un entero que indica la posición del puntero actualmente.\n",
    "\n",
    "2. `archivo.seek(n)`:  Moverá el puntero a la posición número `n` del archivo.\n",
    "\n",
    "Si queremos entonces imprimir el archivo de `data3.txt` podemos pedirle que vuelva al comienzo:"
   ]
  },
  {
   "cell_type": "code",
   "execution_count": 16,
   "metadata": {},
   "outputs": [
    {
     "name": "stdout",
     "output_type": "stream",
     "text": [
      "Imprimireos el contenido del archivo:\n",
      "La fecha de hoy es \n",
      "4 de Agosto de 2020\n",
      "-------------\n",
      "Imprimiremos el contenido del archivo por segunda vez:\n",
      "La fecha de hoy es \n",
      "4 de Agosto de 2020\n",
      "-------------\n"
     ]
    }
   ],
   "source": [
    "with open('data3.txt', 'r') as archivo:\n",
    "    print(\"Imprimireos el contenido del archivo:\")\n",
    "    print(archivo.read())\n",
    "    print(\"-------------\")\n",
    "    print(\"Imprimiremos el contenido del archivo por segunda vez:\")\n",
    "    archivo.seek(0)\n",
    "    print(archivo.read())\n",
    "    print(\"-------------\")"
   ]
  },
  {
   "cell_type": "markdown",
   "metadata": {},
   "source": [
    "Veamos que ocurre si le preguntamos donde está el puntero en varios puntos:"
   ]
  },
  {
   "cell_type": "code",
   "execution_count": 17,
   "metadata": {},
   "outputs": [
    {
     "name": "stdout",
     "output_type": "stream",
     "text": [
      "El puntero está en la posición:  0\n",
      "La fecha de hoy es \n",
      "4 de Agosto de 2020\n",
      "-------------\n",
      "El puntero está ahora en la posición : 40\n"
     ]
    }
   ],
   "source": [
    "with open('data3.txt', 'r') as archivo:\n",
    "    print(\"El puntero está en la posición: \", archivo.tell())\n",
    "    print(archivo.read())\n",
    "    print(\"-------------\")\n",
    "    print(\"El puntero está ahora en la posición :\", archivo.tell())\n"
   ]
  },
  {
   "cell_type": "markdown",
   "metadata": {},
   "source": [
    "En realidad, `seek()` tiene otras funcionalidades interesantes, pero no las cubriremos en este curso. Para más información, pueden consultar la documentación."
   ]
  },
  {
   "cell_type": "markdown",
   "metadata": {},
   "source": [
    "### Ejercicios\n",
    "\n",
    ">1. En el archivo sisifo.txt, disponible en la carpeta Archivos de la pagina del curso, ábralo usando un script de Python, y manipúlelo de la siguiente manera:\n",
    ">>1. Imprima el texto desde la posición 909.\n",
    ">>2. ¿En qué posición empieza la palabra \"arte\"?\n",
    ">>3. Intercambie la palabra \"Sisifo\" por tu nombre.\n",
    ">>4. Imprima el texto resultante"
   ]
  },
  {
   "attachments": {
    "data.png": {
     "image/png": "[encoded data removed]"
    }
   },
   "cell_type": "markdown",
   "metadata": {},
   "source": [
    "# Extras!\n",
    "## 1. Diferencias entre `r+`, `a`, `w`.\n",
    "\n",
    "\n",
    "Además de que `r+` es el único modo en el cual podemos leer y escribir al mismo tiempo, existen unas pequeñas diferencias entre estos tres modos. \n",
    "Supongamos que tengo el siguiente archivo en mi directorio\n",
    "![data.png](attachment:data.png)\n",
    "\n",
    "Abajo siguen los tres posibles bloques de código y sus respectivos resultados"
   ]
  },
  {
   "cell_type": "code",
   "execution_count": 18,
   "metadata": {},
   "outputs": [],
   "source": [
    "with open('data3.txt', 'r+') as archivo:\n",
    "    archivo.write(\"Hola mundo\")"
   ]
  },
  {
   "attachments": {
    "dater+.png": {
     "image/png": "[encoded data removed]"
    }
   },
   "cell_type": "markdown",
   "metadata": {},
   "source": [
    "![dater+.png](attachment:dater+.png)"
   ]
  },
  {
   "cell_type": "code",
   "execution_count": 19,
   "metadata": {},
   "outputs": [],
   "source": [
    "with open('data3.txt', 'a') as archivo:\n",
    "    archivo.write(\"Hola mundo\")"
   ]
  },
  {
   "attachments": {
    "datea.png": {
     "image/png": "[encoded data removed]"
    }
   },
   "cell_type": "markdown",
   "metadata": {},
   "source": [
    "![datea.png](attachment:datea.png)"
   ]
  },
  {
   "cell_type": "code",
   "execution_count": 20,
   "metadata": {},
   "outputs": [],
   "source": [
    "with open('data3.txt', 'w') as archivo:\n",
    "    archivo.write(\"Hola mundo\")"
   ]
  },
  {
   "attachments": {
    "datew.png": {
     "image/png": "[encoded data removed]"
    }
   },
   "cell_type": "markdown",
   "metadata": {},
   "source": [
    "![datew.png](attachment:datew.png)"
   ]
  },
  {
   "cell_type": "markdown",
   "metadata": {},
   "source": [
    "Las diferencias están resumidas en la siguiente tabla:\n",
    "\n",
    "| `r+` | `a` | `w` |\n",
    "|:-----|:----|:----|\n",
    "|-Agrega el texto en el lugar del puntero |-Agrega el texto al final del archivo | -Agrega el texto al comienzo del archivo|\n",
    "|-Deja el resto del texto igual | -Deja el resto del texto igual | -Elimina el resto del texto|"
   ]
  },
  {
   "cell_type": "markdown",
   "metadata": {},
   "source": [
    "### Ejercicios\n",
    "1-) En un script, pedir al usuario que ingrese tres dígitos, guardarlos en un archivo llamado capicua.txt y finalmente agregar en el mismo archivo el menor número capicúa que empieza con los tres dígitos ingresados por el usuario, preservando el orden.\n",
    "    \n",
    "    Los números capicúas se leen igual del derecho y del revés. Ejemplo: Si el usuario ingresa '1', '3', '3', entonces se debe añadir un '1' obteniendo '1331' que es un número capicúa.\n",
    "\n",
    "2-) Determine si los valores del archivo Par_Impar.txt (que es un número del tipo string, por ende debe cambiarse al tipo entero), es par o impar. En caso de que sea par reemplazar el contenido con 1, en el caso contrario se debe reemplaza con 0.\n",
    "\n",
    "3-) Visualizar el texto del archivo Filosofia_del_Dia.txt y completar la parte final con una de las opciones:\n",
    "\n",
    "    a. yo soy.\n",
    "    b. luego existo.\n",
    "    c. es poder.\n",
    "4-) Tenemos el string 'Ellos nos crearon pero ahora nos tienen miedo. Porque no pueden manipular lo que queremos.\". En cambio en el archivo Verso.txt adjuntado sólo se encuentra la segunda oración. Escriba en el archivo la parte restante, agregue al final del archivo la cantidad de letras utilizadas e imprima el archivo final, antes de guardarlo.\""
   ]
  }
 ],
 "metadata": {
  "kernelspec": {
   "display_name": "Python 3",
   "language": "python",
   "name": "python3"
  },
  "language_info": {
   "codemirror_mode": {
    "name": "ipython",
    "version": 3
   },
   "file_extension": ".py",
   "mimetype": "text/x-python",
   "name": "python",
   "nbconvert_exporter": "python",
   "pygments_lexer": "ipython3",
   "version": "3.8.5"
  }
 },
 "nbformat": 4,
 "nbformat_minor": 4
}
